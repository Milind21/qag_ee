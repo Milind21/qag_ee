{
 "cells": [
  {
   "cell_type": "code",
   "execution_count": 45,
   "id": "2f8ab63c",
   "metadata": {},
   "outputs": [],
   "source": [
    "import json\n",
    "\n",
    "ip_gold = \"/Users/milind/Desktop/Milind/UTD/Summer 23/Qualification Annotation Generation/Experiments/template_based/predictions_extractions.json\"\n",
    "ip_kairos= \"event_role_KAIROS.json\""
   ]
  },
  {
   "cell_type": "code",
   "execution_count": 50,
   "id": "88fcdcad",
   "metadata": {},
   "outputs": [],
   "source": [
    "with open(ip_gold, 'r') as json_file:\n",
    "    gold_data = json.load(json_file)\n",
    "with open(ip_kairos, 'r') as json_file2:\n",
    "    kairos_role = json.load(json_file2)    "
   ]
  },
  {
   "cell_type": "code",
   "execution_count": 47,
   "id": "d2b71c82",
   "metadata": {},
   "outputs": [
    {
     "data": {
      "text/plain": [
       "'<arg1> damaged <arg2> using <arg3> instrument in <arg4> place'"
      ]
     },
     "execution_count": 47,
     "metadata": {},
     "output_type": "execute_result"
    }
   ],
   "source": [
    "kairos_role[\"ArtifactExistence.DamageDestroyDisableDismantle.Damage\"][\"template\"]"
   ]
  },
  {
   "cell_type": "code",
   "execution_count": 48,
   "id": "1ccab5f7",
   "metadata": {},
   "outputs": [
    {
     "ename": "TypeError",
     "evalue": "list indices must be integers or slices, not str",
     "output_type": "error",
     "traceback": [
      "\u001b[0;31m---------------------------------------------------------------------------\u001b[0m",
      "\u001b[0;31mTypeError\u001b[0m                                 Traceback (most recent call last)",
      "Input \u001b[0;32mIn [48]\u001b[0m, in \u001b[0;36m<cell line: 1>\u001b[0;34m()\u001b[0m\n\u001b[0;32m----> 1\u001b[0m \u001b[43mgold_data\u001b[49m\u001b[43m[\u001b[49m\u001b[38;5;124;43m\"\u001b[39;49m\u001b[38;5;124;43mwiki_mass_car_bombings_1_news_8\u001b[39;49m\u001b[38;5;124;43m\"\u001b[39;49m\u001b[43m]\u001b[49m[\u001b[38;5;124m\"\u001b[39m\u001b[38;5;124mdoc_id\u001b[39m\u001b[38;5;124m\"\u001b[39m]\n",
      "\u001b[0;31mTypeError\u001b[0m: list indices must be integers or slices, not str"
     ]
    }
   ],
   "source": [
    "gold_data[\"wiki_mass_car_bombings_1_news_8\"][\"doc_id\"]"
   ]
  },
  {
   "cell_type": "code",
   "execution_count": 51,
   "id": "d4349477",
   "metadata": {},
   "outputs": [],
   "source": [
    "total_role_types={}\n",
    "for key,value in kairos_role.items():\n",
    "    for i in range(len(value['roles'])):\n",
    "        if(value['roles'][i] not in total_role_types.keys()):\n",
    "            total_role_types[value['roles'][i]]=set()\n",
    "        total_role_types[value['roles'][i]].update(value['role_types'][i])"
   ]
  },
  {
   "cell_type": "code",
   "execution_count": 52,
   "id": "bcdbe086",
   "metadata": {},
   "outputs": [
    {
     "name": "stdout",
     "output_type": "stream",
     "text": [
      "80\n"
     ]
    }
   ],
   "source": [
    "print(len(total_role_types))"
   ]
  },
  {
   "cell_type": "code",
   "execution_count": 53,
   "id": "0daab940",
   "metadata": {},
   "outputs": [],
   "source": [
    "question_map = {}\n",
    "for key, value in total_role_types.items():\n",
    "    if (\"per\" in value or \"org\" in value):\n",
    "        if(\"Who\" not in question_map.keys()):\n",
    "            question_map[\"Who\"]=[]\n",
    "        question_map[\"Who\"].append(key)\n",
    "    elif (\"per\" in value or \"org\" in value):\n",
    "        if(\"Whom\" not in question_map.keys()):\n",
    "            question_map[\"Whom\"]=[]\n",
    "        question_map[\"Whom\"].append(key)\n",
    "    elif (\"loc\" in value or \"fac\" in value):\n",
    "        if(\"Where\" not in question_map.keys()):\n",
    "            question_map[\"Where\"]=[]\n",
    "        question_map[\"Where\"].append(key)\n",
    "    elif (\"mhi\" in value):\n",
    "        if(\"Why\" not in question_map.keys()):\n",
    "            question_map[\"Why\"]=[]\n",
    "        question_map[\"Why\"].append(key)\n",
    "    elif (\"mhi\" in value):\n",
    "        if(\"How\" not in question_map.keys()):\n",
    "            question_map[\"How\"]=[]\n",
    "        question_map[\"How\"].append(key)\n",
    "#     elif (\"loc\" in value || \"fac\" in value):\n",
    "#         question_map[\"When\"].update(key)\n",
    "    else:\n",
    "        if(\"What\" not in question_map.keys()):\n",
    "            question_map[\"What\"]=[]\n",
    "        question_map[\"What\"].append(key)\n",
    "    "
   ]
  },
  {
   "cell_type": "code",
   "execution_count": 54,
   "id": "dfed0b47",
   "metadata": {},
   "outputs": [],
   "source": [
    "op_dictionary={}"
   ]
  },
  {
   "cell_type": "code",
   "execution_count": 55,
   "id": "2f1795e0",
   "metadata": {},
   "outputs": [],
   "source": [
    "def find_wh(role):\n",
    "    wh_list=[]\n",
    "    for k,v in question_map.items():\n",
    "        if(role in v):\n",
    "            wh_list.append(k) \n",
    "#     print(wh_list)\n",
    "    return wh_list"
   ]
  },
  {
   "cell_type": "code",
   "execution_count": 57,
   "id": "f5bc153e",
   "metadata": {},
   "outputs": [],
   "source": [
    "#FOR PREDICTED EXATRACTIONS\n",
    "for item in gold_data:\n",
    "    op_dictionary[item[\"doc_id\"]]={\"events\":[]}\n",
    "    for event in item[\"event_mentions\"]:\n",
    "        temp_dict={}\n",
    "        event_id=event[\"id\"]\n",
    "        trigger = event[\"trigger\"][\"text\"]\n",
    "        qa_list=[]\n",
    "        for arg in event[\"arguments\"]:\n",
    "            arg_role=arg['role']\n",
    "            arg_text=arg['text']\n",
    "#             print(arg_role)\n",
    "            wh = find_wh(arg_role)\n",
    "            for wh_word in wh:\n",
    "                question = wh_word + ' ' + trigger + '?'\n",
    "                answer = arg_text\n",
    "                qa_dict={'question': question,'answer': answer}\n",
    "                qa_list.append(qa_dict)\n",
    "        temp_dict[event_id]=qa_list\n",
    "        op_dictionary[item[\"doc_id\"]][\"events\"].append(temp_dict)"
   ]
  },
  {
   "cell_type": "code",
   "execution_count": 40,
   "id": "ea355815",
   "metadata": {},
   "outputs": [],
   "source": [
    "#For GOLD EXTRACTIONS\n",
    "for key, value in gold_data.items():\n",
    "    op_dictionary[key]={\"events\":[]}\n",
    "    for item in value[\"event_mentions\"]:\n",
    "        temp_dict={}\n",
    "        event_id=item[\"id\"]\n",
    "        trigger = item[\"trigger\"][\"text\"]\n",
    "        qa_list=[]\n",
    "        for arg in item[\"arguments\"]:\n",
    "            arg_role=arg['role']\n",
    "            arg_text=arg['text']\n",
    "#             print(arg_role)\n",
    "            wh = find_wh(arg_role)\n",
    "            for wh_word in wh:\n",
    "                question = wh_word + ' ' + trigger + '?'\n",
    "                answer = arg_text\n",
    "                qa_dict={'question': question,'answer': answer}\n",
    "                qa_list.append(qa_dict)\n",
    "        temp_dict[event_id]=qa_list\n",
    "        op_dictionary[key][\"events\"].append(temp_dict)"
   ]
  },
  {
   "cell_type": "code",
   "execution_count": 58,
   "id": "026f32d0",
   "metadata": {},
   "outputs": [
    {
     "name": "stdout",
     "output_type": "stream",
     "text": [
      "{'wiki_mass_car_bombings_1_news_8': {'events': [{'wiki_mass_car_bombings_1_news_8-E1': [{'question': 'Who killed?', 'answer': 'Taliban'}, {'question': 'Who killed?', 'answer': 'members'}]}, {'wiki_mass_car_bombings_1_news_8-E2': [{'question': 'Where explosion?', 'answer': 'training center'}]}, {'wiki_mass_car_bombings_1_news_8-E3': [{'question': 'Who killed?', 'answer': 'people'}]}, {'wiki_mass_car_bombings_1_news_8-E4': [{'question': 'Where the assault?', 'answer': 'campus'}, {'question': 'Who the assault?', 'answer': 'attackers'}]}, {'wiki_mass_car_bombings_1_news_8-E5': [{'question': 'Where detonated?', 'answer': 'campus'}, {'question': 'Who detonated?', 'answer': 'attackers'}]}, {'wiki_mass_car_bombings_1_news_8-E6': [{'question': 'Where shot?', 'answer': 'campus'}, {'question': 'Who shot?', 'answer': 'soldiers'}, {'question': 'Who shot?', 'answer': 'gunmen'}]}, {'wiki_mass_car_bombings_1_news_8-E7': [{'question': 'Who killed?', 'answer': 'members'}]}, {'wiki_mass_car_bombings_1_news_8-E8': [{'question': 'Who saw?', 'answer': 'he'}, {'question': 'Who saw?', 'answer': 'bodies'}, {'question': 'Where saw?', 'answer': 'hospital'}]}, {'wiki_mass_car_bombings_1_news_8-E9': [{'question': 'Where suicide bombing?', 'answer': 'province'}]}, {'wiki_mass_car_bombings_1_news_8-E10': [{'question': 'Who wounded?', 'answer': '10'}]}, {'wiki_mass_car_bombings_1_news_8-E11': [{'question': 'Who dead?', 'answer': 'policemen'}]}, {'wiki_mass_car_bombings_1_news_8-E12': [{'question': 'Where bombing?', 'answer': 'Mohammad Agha district'}, {'question': 'Who bombing?', 'answer': 'convoy'}, {'question': 'Who bombing?', 'answer': 'Taliban'}]}, {'wiki_mass_car_bombings_1_news_8-E13': [{'question': 'Who killed?', 'answer': 'members'}]}, {'wiki_mass_car_bombings_1_news_8-E14': [{'question': 'Who been in touch?', 'answer': 'official'}, {'question': 'Who been in touch?', 'answer': 'me'}]}, {'wiki_mass_car_bombings_1_news_8-E15': [{'question': 'Where transported?', 'answer': 'Kabul city'}, {'question': 'Who transported?', 'answer': 'bodies'}]}, {'wiki_mass_car_bombings_1_news_8-E16': [{'question': 'Who transferred?', 'answer': 'injured'}, {'question': 'Where transferred?', 'answer': 'hospitals'}]}, {'wiki_mass_car_bombings_1_news_8-E17': [{'question': 'Who attack?', 'answer': 'NDS'}]}, {'wiki_mass_car_bombings_1_news_8-E18': [{'question': 'Who killed?', 'answer': 'members'}]}, {'wiki_mass_car_bombings_1_news_8-E19': [{'question': 'Who wounding?', 'answer': 'fighters'}, {'question': 'Who wounding?', 'answer': '110 Afghans and expatriates'}]}, {'wiki_mass_car_bombings_1_news_8-E20': [{'question': 'Who killing?', 'answer': 'fighters'}, {'question': 'Who killing?', 'answer': 'people'}, {'question': 'Where killing?', 'answer': 'compound'}]}, {'wiki_mass_car_bombings_1_news_8-E21': [{'question': 'What set off?', 'answer': 'bomb'}, {'question': 'Who set off?', 'answer': 'compound'}, {'question': 'Where set off?', 'answer': 'Kabul'}, {'question': 'Who set off?', 'answer': 'fighters'}]}, {'wiki_mass_car_bombings_1_news_8-E22': [{'question': 'Who met?', 'answer': 'Taliban'}, {'question': 'Who met?', 'answer': 'officials'}, {'question': 'Where met?', 'answer': 'Qatar'}]}, {'wiki_mass_car_bombings_1_news_8-E23': []}, {'wiki_mass_car_bombings_1_news_8-E24': [{'question': 'Who killed?', 'answer': 'They'}, {'question': 'Who killed?', 'answer': 'sons'}]}, {'wiki_mass_car_bombings_1_news_8-E25': [{'question': 'Who wounded?', 'answer': 'They'}, {'question': 'Who wounded?', 'answer': 'sons'}]}]}, 'scenario_en_kairos_68': {'events': [{'scenario_en_kairos_68-E1': [{'question': 'Who bombing?', 'answer': 'I'}]}]}, '53_VOA_EN_NW_2015.06.24.2835606': {'events': [{'53_VOA_EN_NW_2015.06.24.2835606-E1': [{'question': 'Who sentenced?', 'answer': 'judge'}, {'question': 'Who sentenced?', 'answer': 'him'}]}, {'53_VOA_EN_NW_2015.06.24.2835606-E2': [{'question': 'Who death?', 'answer': 'him'}]}, {'53_VOA_EN_NW_2015.06.24.2835606-E3': [{'question': 'Who damage?', 'answer': 'I'}]}, {'53_VOA_EN_NW_2015.06.24.2835606-E4': []}, {'53_VOA_EN_NW_2015.06.24.2835606-E5': [{'question': 'Who sentence?', 'answer': 'Tsarnaev'}]}, {'53_VOA_EN_NW_2015.06.24.2835606-E6': [{'question': 'Who death?', 'answer': 'Tsarnaev'}]}, {'53_VOA_EN_NW_2015.06.24.2835606-E7': [{'question': 'Who killing?', 'answer': 'people'}, {'question': 'Who killing?', 'answer': 'Tsarnaev'}]}, {'53_VOA_EN_NW_2015.06.24.2835606-E8': [{'question': 'Who injuring?', 'answer': 'Tsarnaev'}, {'question': 'Who injuring?', 'answer': '264'}]}, {'53_VOA_EN_NW_2015.06.24.2835606-E9': [{'question': 'Who bombing?', 'answer': 'Tsarnaev'}, {'question': 'Where bombing?', 'answer': 'world'}, {'question': 'What bombing?', 'answer': 'bombs'}]}, {'53_VOA_EN_NW_2015.06.24.2835606-E10': [{'question': 'Who set off?', 'answer': 'he'}, {'question': 'Who set off?', 'answer': 'Tamerlan'}, {'question': 'Where set off?', 'answer': 'line'}, {'question': 'What set off?', 'answer': 'bombs'}]}, {'53_VOA_EN_NW_2015.06.24.2835606-E11': [{'question': 'Who shooting?', 'answer': 'officer'}, {'question': 'Who shooting?', 'answer': 'Tsarnaev'}]}, {'53_VOA_EN_NW_2015.06.24.2835606-E12': [{'question': 'Who killed?', 'answer': 'Tamerlan'}]}, {'53_VOA_EN_NW_2015.06.24.2835606-E13': [{'question': 'Who charges?', 'answer': 'Tsarnaev'}]}, {'53_VOA_EN_NW_2015.06.24.2835606-E14': [{'question': 'Who sentence?', 'answer': '17'}]}, {'53_VOA_EN_NW_2015.06.24.2835606-E15': [{'question': 'Who death?', 'answer': '17'}]}, {'53_VOA_EN_NW_2015.06.24.2835606-E16': [{'question': 'Who sentencing?', 'answer': 'Tsarnaev'}]}, {'53_VOA_EN_NW_2015.06.24.2835606-E17': [{'question': 'Who killed?', 'answer': 'Krystle Campbell'}]}, {'53_VOA_EN_NW_2015.06.24.2835606-E18': [{'question': 'Who attack?', 'answer': 'Krystle Campbell'}]}, {'53_VOA_EN_NW_2015.06.24.2835606-E19': [{'question': 'Who attack?', 'answer': 'Karen Rand McWatters'}]}, {'53_VOA_EN_NW_2015.06.24.2835606-E20': [{'question': 'Who attack?', 'answer': 'Tsarnaev'}]}, {'53_VOA_EN_NW_2015.06.24.2835606-E21': [{'question': 'Who killing?', 'answer': 'jihadis'}, {'question': 'Who killing?', 'answer': 'people'}]}, {'53_VOA_EN_NW_2015.06.24.2835606-E22': [{'question': 'Who attacks?', 'answer': 'Tsarnaev'}, {'question': 'Who attacks?', 'answer': 'people'}]}, {'53_VOA_EN_NW_2015.06.24.2835606-E23': [{'question': 'Who bombing?', 'answer': 'Tsarnaev'}]}, {'53_VOA_EN_NW_2015.06.24.2835606-E24': [{'question': 'Who lost?', 'answer': 'woman'}]}, {'53_VOA_EN_NW_2015.06.24.2835606-E25': [{'question': 'Who lost?', 'answer': 'Karen Rand McWatters'}]}, {'53_VOA_EN_NW_2015.06.24.2835606-E26': [{'question': 'Who attacking?', 'answer': 'Tsarnaev'}, {'question': 'Who attacking?', 'answer': 'citizens'}]}, {'53_VOA_EN_NW_2015.06.24.2835606-E27': [{'question': 'Who killed?', 'answer': 'Martin'}]}, {'53_VOA_EN_NW_2015.06.24.2835606-E28': [{'question': 'Who bombing?', 'answer': 'Martin'}, {'question': 'Who bombing?', 'answer': 'Jennifer Rogers'}]}, {'53_VOA_EN_NW_2015.06.24.2835606-E29': [{'question': 'Who destruction?', 'answer': 'He'}]}, {'53_VOA_EN_NW_2015.06.24.2835606-E30': [{'question': 'Who death?', 'answer': 'He'}]}, {'53_VOA_EN_NW_2015.06.24.2835606-E31': [{'question': 'Who sentence?', 'answer': 'Tsarnaev'}]}]}, 'wiki_drone_strikes_0_news_1': {'events': [{'wiki_drone_strikes_0_news_1-E1': [{'question': 'Where strikes?', 'answer': 'air'}]}, {'wiki_drone_strikes_0_news_1-E2': [{'question': 'Where strikes?', 'answer': 'drone'}, {'question': 'Who strikes?', 'answer': 'Obama'}]}, {'wiki_drone_strikes_0_news_1-E3': [{'question': 'Where strikes?', 'answer': 'drones'}, {'question': 'Who strikes?', 'answer': 'Pakistan'}, {'question': 'Who strikes?', 'answer': 'Yemen'}, {'question': 'Who strikes?', 'answer': 'Somalia'}]}, {'wiki_drone_strikes_0_news_1-E4': [{'question': 'Where strikes?', 'answer': 'Yemen'}, {'question': 'Who strikes?', 'answer': 'Bush'}, {'question': 'Where strikes?', 'answer': 'Somalia'}, {'question': 'Where strikes?', 'answer': 'Pakistan'}, {'question': 'Where strikes?', 'answer': 'drone'}]}, {'wiki_drone_strikes_0_news_1-E5': [{'question': 'Where killed?', 'answer': 'countries'}, {'question': 'Who killed?', 'answer': 'civilians'}]}, {'wiki_drone_strikes_0_news_1-E6': [{'question': 'Who strikes?', 'answer': 'suspects'}, {'question': 'Who strikes?', 'answer': 'administration'}, {'question': 'Where strikes?', 'answer': 'drone'}]}, {'wiki_drone_strikes_0_news_1-E7': [{'question': 'Who killed?', 'answer': 'people'}]}, {'wiki_drone_strikes_0_news_1-E8': [{'question': 'Where strikes?', 'answer': 'drone'}, {'question': 'Who strikes?', 'answer': 'people'}]}, {'wiki_drone_strikes_0_news_1-E9': [{'question': 'Who killed?', 'answer': 'US'}, {'question': 'Who killed?', 'answer': 'civilians'}]}, {'wiki_drone_strikes_0_news_1-E10': [{'question': 'Who deaths?', 'answer': 'people'}]}, {'wiki_drone_strikes_0_news_1-E11': [{'question': 'Who attacks?', 'answer': 'US'}, {'question': 'Where attacks?', 'answer': 'Afghanistan'}, {'question': 'Where attacks?', 'answer': 'air'}]}, {'wiki_drone_strikes_0_news_1-E12': [{'question': 'Where bombardment?', 'answer': 'weapons'}, {'question': 'Who bombardment?', 'answer': 'country'}]}, {'wiki_drone_strikes_0_news_1-E13': [{'question': 'Who deaths?', 'answer': '85'}]}, {'wiki_drone_strikes_0_news_1-E14': [{'question': 'Who deaths?', 'answer': 'civilian'}]}, {'wiki_drone_strikes_0_news_1-E15': []}, {'wiki_drone_strikes_0_news_1-E16': [{'question': 'Where strikes?', 'answer': 'Pakistan'}]}, {'wiki_drone_strikes_0_news_1-E17': [{'question': 'Who strikes?', 'answer': 'Obama'}, {'question': 'Where strikes?', 'answer': 'drone'}]}, {'wiki_drone_strikes_0_news_1-E18': [{'question': 'Where strikes?', 'answer': 'drone'}]}]}, 'wiki_ied_bombings_10': {'events': [{'wiki_ied_bombings_10-E1': [{'question': 'What exploded?', 'answer': 'bomb'}, {'question': 'Where exploded?', 'answer': 'Caterham'}, {'question': 'Who exploded?', 'answer': 'IRA'}]}, {'wiki_ied_bombings_10-E2': [{'question': 'Who injured?', 'answer': 'people'}]}, {'wiki_ied_bombings_10-E3': [{'question': 'Where attacks?', 'answer': 'England'}]}, {'wiki_ied_bombings_10-E4': [{'question': 'What exploded?', 'answer': 'bomb'}]}, {'wiki_ied_bombings_10-E5': [{'question': 'Who injuring?', 'answer': 'soldiers'}, {'question': 'Who injuring?', 'answer': 'civilians'}, {'question': 'Where injuring?', 'answer': 'bomb'}]}, {'wiki_ied_bombings_10-E6': [{'question': 'Where exploded?', 'answer': 'Oxford Street'}, {'question': 'Who exploded?', 'answer': 'IRA'}, {'question': 'What exploded?', 'answer': 'bomb'}]}, {'wiki_ied_bombings_10-E7': [{'question': 'Who injuring?', 'answer': 'unit'}, {'question': 'Who injuring?', 'answer': 'people'}, {'question': 'Where injuring?', 'answer': 'bomb'}]}, {'wiki_ied_bombings_10-E8': [{'question': 'Where blew?', 'answer': 'roof'}]}, {'wiki_ied_bombings_10-E9': [{'question': 'Who deaths?', 'answer': 'people'}]}, {'wiki_ied_bombings_10-E10': [{'question': 'Who injured?', 'answer': 'hundreds'}]}, {'wiki_ied_bombings_10-E11': [{'question': 'Where damage?', 'answer': 'property'}]}, {'wiki_ied_bombings_10-E12': [{'question': 'Who lost?', 'answer': 'soldiers'}]}, {'wiki_ied_bombings_10-E13': [{'question': 'Who assassination?', 'answer': 'Edward Heath'}]}, {'wiki_ied_bombings_10-E14': [{'question': 'Who threw?', 'answer': 'Edward Heath'}, {'question': 'Who threw?', 'answer': 'attackers'}, {'question': 'What threw?', 'answer': 'bomb'}]}, {'wiki_ied_bombings_10-E15': [{'question': 'Who injuries?', 'answer': 'soldiers'}]}, {'wiki_ied_bombings_10-E16': [{'question': 'Who losing?', 'answer': 'soldiers'}]}, {'wiki_ied_bombings_10-E17': [{'question': 'Where planted?', 'answer': 'bomb'}, {'question': 'Who planted?', 'answer': 'Gang'}]}, {'wiki_ied_bombings_10-E18': [{'question': 'Who monitor?', 'answer': 'ceasefire'}]}, {'wiki_ied_bombings_10-E19': [{'question': 'Where placed?', 'answer': 'bomb'}, {'question': 'Who placed?', 'answer': 'IRA'}, {'question': 'What placed?', 'answer': 'duffel bag'}]}, {'wiki_ied_bombings_10-E20': [{'question': 'Who charge?', 'answer': 'officers'}]}, {'wiki_ied_bombings_10-E21': [{'question': 'Who sentences?', 'answer': 'people'}]}, {'wiki_ied_bombings_10-E22': [{'question': 'Where caught?', 'answer': 'Balcombe Street'}, {'question': 'Who caught?', 'answer': 'they'}]}, {'wiki_ied_bombings_10-E23': [{'question': 'Who agreed?', 'answer': 'Provisional Irish Republican Army'}, {'question': 'Who agreed?', 'answer': 'Northern Ireland Office'}, {'question': 'Who agreed?', 'answer': 'government'}, {'question': 'Who agreed?', 'answer': 'truce and ceasefire'}]}]}, 'backpack_ied_13': {'events': [{'backpack_ied_13-E2': []}, {'backpack_ied_13-E7': [{'question': 'Who threat?', 'answer': 'He'}]}, {'backpack_ied_13-E13': [{'question': 'Who injured?', 'answer': 'those'}]}, {'backpack_ied_13-E21': []}, {'backpack_ied_13-E23': [{'question': 'Who killed?', 'answer': 'he'}, {'question': 'Who killed?', 'answer': 'officer'}]}, {'backpack_ied_13-E24': []}, {'backpack_ied_13-E26': [{'question': 'Who said?', 'answer': 'Cuomo'}]}, {'backpack_ied_13-E27': [{'question': 'Where exploding?', 'answer': 'New York'}, {'question': 'What exploding?', 'answer': 'bomb'}]}, {'backpack_ied_13-E28': [{'question': 'Where found?', 'answer': 'blocks'}, {'question': 'Who found?', 'answer': 'police'}, {'question': 'Who found?', 'answer': 'device'}, {'question': 'Who found?', 'answer': 'explosive device'}]}, {'backpack_ied_13-E29': [{'question': 'Who removed?', 'answer': 'squad'}, {'question': 'Where removed?', 'answer': 'device'}]}, {'backpack_ied_13-E30': [{'question': 'Who said?', 'answer': 'Bill de Blasio'}]}, {'backpack_ied_13-E31': [{'question': 'Who said?', 'answer': 'de Blasio'}]}, {'backpack_ied_13-E32': [{'question': 'Who said?', 'answer': 'William Sweeney'}]}, {'backpack_ied_13-E33': [{'question': 'Who said?', 'answer': 'DeBlasio'}]}, {'backpack_ied_13-E34': [{'question': 'Who said?', 'answer': 'O ’ Neill'}]}, {'backpack_ied_13-E35': [{'question': 'Who found?', 'answer': 'secondary device'}, {'question': 'Who found?', 'answer': 'device'}, {'question': 'Who found?', 'answer': 'they'}]}, {'backpack_ied_13-E36': [{'question': 'Who said?', 'answer': 'police'}]}, {'backpack_ied_13-E37': [{'question': 'Where removed?', 'answer': 'device'}, {'question': 'Where removed?', 'answer': 'robot'}]}, {'backpack_ied_13-E38': [{'question': 'Who said?', 'answer': 'O ’ Neill'}]}, {'backpack_ied_13-E39': [{'question': 'Who said?', 'answer': 'Authorities'}]}, {'backpack_ied_13-E40': [{'question': 'Who said?', 'answer': 'Cuomo'}]}, {'backpack_ied_13-E41': [{'question': 'Who said?', 'answer': 'He'}, {'question': 'Who said?', 'answer': 'devices'}]}, {'backpack_ied_13-E42': [{'question': 'Who said?', 'answer': 'Cuomo'}, {'question': 'Who said?', 'answer': 'agents'}]}, {'backpack_ied_13-E43': [{'question': 'Who said?', 'answer': 'Cuomo'}]}, {'backpack_ied_13-E44': [{'question': 'Who said?', 'answer': 'Cuomo'}]}, {'backpack_ied_13-E45': [{'question': 'Who said?', 'answer': 'He'}]}, {'backpack_ied_13-E46': [{'question': 'Who said?', 'answer': 'Cuomo'}]}, {'backpack_ied_13-E12': [{'question': 'Where occurred?', 'answer': 'area'}]}, {'backpack_ied_13-E47': [{'question': 'Where brought?', 'answer': 'hospitals'}, {'question': 'Who brought?', 'answer': 'those'}]}, {'backpack_ied_13-E48': [{'question': 'Who posted?', 'answer': 'Donald'}]}, {'backpack_ied_13-E49': [{'question': 'Who treated?', 'answer': 'victims'}]}, {'backpack_ied_13-E50': [{'question': 'Who said?', 'answer': 'Cuomo'}]}, {'backpack_ied_13-E51': [{'question': 'Who treated?', 'answer': 'Lenox Health'}, {'question': 'Who treated?', 'answer': 'victims'}]}, {'backpack_ied_13-E52': [{'question': 'Who said?', 'answer': 'spokeswoman'}]}, {'backpack_ied_13-E54': [{'question': 'Who said?', 'answer': 'he'}]}, {'backpack_ied_13-E55': [{'question': 'Who said?', 'answer': 'Salomon'}]}, {'backpack_ied_13-E56': [{'question': 'Who said?', 'answer': 'Trump'}]}, {'backpack_ied_13-E57': [{'question': 'Who claimed?', 'answer': 'attacker'}, {'question': 'Who claimed?', 'answer': 'agency'}]}, {'backpack_ied_13-E58': [{'question': 'Who said?', 'answer': 'spokesman'}]}]}, 'backpack_ied_20': {'events': [{'backpack_ied_20-E1': [{'question': 'Who bombing?', 'answer': 'sidewalk'}, {'question': 'Where bombing?', 'answer': 'Boston'}]}, {'backpack_ied_20-E2': [{'question': 'What attacks?', 'answer': 'IEDs'}, {'question': 'Where attacks?', 'answer': 'Mideast'}]}, {'backpack_ied_20-E3': [{'question': 'What attack?', 'answer': 'bombs'}, {'question': 'Where attack?', 'answer': 'Times Square'}]}, {'backpack_ied_20-E4': [{'question': 'Where attacks?', 'answer': 'Afghanistan'}, {'question': 'Where attacks?', 'answer': 'Pakistan'}, {'question': 'What attacks?', 'answer': 'bombs'}, {'question': 'Where attacks?', 'answer': 'India'}, {'question': 'Where attacks?', 'answer': 'Nepal'}]}, {'backpack_ied_20-E5': [{'question': 'What attack?', 'answer': 'bombs'}, {'question': 'Where attack?', 'answer': 'Boston'}]}, {'backpack_ied_20-E6': [{'question': 'Where killed?', 'answer': 'Boylston Street'}, {'question': 'Who killed?', 'answer': 'people'}]}, {'backpack_ied_20-E7': [{'question': 'Who injured?', 'answer': '150'}]}, {'backpack_ied_20-E8': []}, {'backpack_ied_20-E9': [{'question': 'Who said?', 'answer': 'Taliban'}]}]}, '20_VOA_EN_NW_2016.11.17.3601570': {'events': [{'20_VOA_EN_NW_2016.11.17.3601570-E1': [{'question': 'Who charges?', 'answer': 'Ahmad Khan Rahimi'}]}, {'20_VOA_EN_NW_2016.11.17.3601570-E2': [{'question': 'Where set off?', 'answer': 'street'}, {'question': 'What set off?', 'answer': ''}, {'question': 'Who set off?', 'answer': 'he'}]}, {'20_VOA_EN_NW_2016.11.17.3601570-E3': [{'question': 'Who injuring?', 'answer': 'people'}, {'question': 'Who injuring?', 'answer': 'Ahmad Khan Rahimi'}]}, {'20_VOA_EN_NW_2016.11.17.3601570-E4': [{'question': 'Who hearing?', 'answer': 'Rahimi'}]}, {'20_VOA_EN_NW_2016.11.17.3601570-E5': [{'question': 'Who injuries?', 'answer': 'He'}, {'question': 'Who injuries?', 'answer': 'police'}]}, {'20_VOA_EN_NW_2016.11.17.3601570-E6': [{'question': 'Where setting off?', 'answer': 'Chelsea'}, {'question': 'Who setting off?', 'answer': 'citizen'}]}, {'20_VOA_EN_NW_2016.11.17.3601570-E7': [{'question': 'Who kill?', 'answer': 'anyone'}]}, {'20_VOA_EN_NW_2016.11.17.3601570-E8': [{'question': 'Who hurt?', 'answer': 'people'}]}, {'20_VOA_EN_NW_2016.11.17.3601570-E9': []}, {'20_VOA_EN_NW_2016.11.17.3601570-E10': [{'question': 'What went off?', 'answer': 'pipe bomb'}, {'question': 'Where went off?', 'answer': 'New Jersey'}, {'question': 'Who went off?', 'answer': 'Rahimi'}]}, {'20_VOA_EN_NW_2016.11.17.3601570-E11': [{'question': 'Who injure?', 'answer': 'anyone'}]}, {'20_VOA_EN_NW_2016.11.17.3601570-E12': [{'question': 'What go off?', 'answer': 'bomb'}, {'question': 'Who go off?', 'answer': 'Rahimi'}, {'question': 'Where go off?', 'answer': 'train station'}]}, {'20_VOA_EN_NW_2016.11.17.3601570-E13': [{'question': 'Where charges?', 'answer': 'New Jersey'}, {'question': 'Who charges?', 'answer': 'Rahimi'}, {'question': 'Who charges?', 'answer': 'prosecutors'}]}, {'20_VOA_EN_NW_2016.11.17.3601570-E14': [{'question': 'Who captured?', 'answer': 'officers'}, {'question': 'Who captured?', 'answer': 'He'}]}, {'20_VOA_EN_NW_2016.11.17.3601570-E15': [{'question': 'Who wounds?', 'answer': 'him'}]}, {'20_VOA_EN_NW_2016.11.17.3601570-E16': [{'question': 'Who charges?', 'answer': 'him'}]}, {'20_VOA_EN_NW_2016.11.17.3601570-E17': [{'question': 'What went off?', 'answer': 'device'}, {'question': 'Who went off?', 'answer': 'West 23rd Street'}]}, {'20_VOA_EN_NW_2016.11.17.3601570-E18': [{'question': 'Who purchased?', 'answer': 'Rahimi'}, {'question': 'Who purchased?', 'answer': 'components'}]}, {'20_VOA_EN_NW_2016.11.17.3601570-E19': [{'question': 'Who hearing?', 'answer': 'Rahimi'}]}, {'20_VOA_EN_NW_2016.11.17.3601570-E20': []}, {'20_VOA_EN_NW_2016.11.17.3601570-E21': []}]}, 'scenario_en_kairos_30': {'events': []}, '38_VOA_EN_NW_2013.04.24.1647602': {'events': [{'38_VOA_EN_NW_2013.04.24.1647602-E1': [{'question': 'Who died?', 'answer': 'police'}, {'question': 'Who died?', 'answer': 'Tamerlan Tsarnaev'}]}, {'38_VOA_EN_NW_2013.04.24.1647602-E2': [{'question': 'Who captured?', 'answer': 'Dzhokhar'}, {'question': 'Who captured?', 'answer': 'brother'}]}, {'38_VOA_EN_NW_2013.04.24.1647602-E3': [{'question': 'Where explosions?', 'answer': 'Boylston Street'}]}, {'38_VOA_EN_NW_2013.04.24.1647602-E4': [{'question': 'Who shot?', 'answer': 'Sean Collier'}, {'question': 'Who shot?', 'answer': 'brothers'}]}, {'38_VOA_EN_NW_2013.04.24.1647602-E5': [{'question': 'Who charged?', 'answer': 'Dzhokhar'}]}, {'38_VOA_EN_NW_2013.04.24.1647602-E6': [{'question': 'What set off?', 'answer': 'bombs'}, {'question': 'Who set off?', 'answer': 'brothers'}, {'question': 'Where set off?', 'answer': 'Boston'}]}, {'38_VOA_EN_NW_2013.04.24.1647602-E7': [{'question': 'Who killing?', 'answer': 'people'}, {'question': 'Who killing?', 'answer': 'brothers'}]}, {'38_VOA_EN_NW_2013.04.24.1647602-E8': [{'question': 'Where injuring?', 'answer': 'bombs'}, {'question': 'Who injuring?', 'answer': '264'}, {'question': 'Who injuring?', 'answer': 'brothers'}]}]}, 'JC002YBW0': {'events': [{'JC002YBW0-E2': [{'question': 'Who recovered?', 'answer': 'backpack'}, {'question': 'Who recovered?', 'answer': 'FBI'}]}, {'JC002YBW0-E3': [{'question': 'Who exchanges?', 'answer': 'Dzhokhar Tsarnaev'}, {'question': 'Who exchanges?', 'answer': 'milk'}]}, {'JC002YBW0-E4': [{'question': 'Who buys?', 'answer': 'He'}, {'question': 'Who buys?', 'answer': 'milk'}]}, {'JC002YBW0-E5': [{'question': 'Who seen?', 'answer': 'Dzhokhar Tsarnaev'}]}, {'JC002YBW0-E6': [{'question': 'Who lost?', 'answer': 'Tsarnaevs'}, {'question': 'Who lost?', 'answer': 'people'}, {'question': 'What lost?', 'answer': 'limbs'}]}, {'JC002YBW0-E7': [{'question': 'What detonated?', 'answer': 'bombs'}, {'question': 'Where detonated?', 'answer': 'Boston'}, {'question': 'Who detonated?', 'answer': 'Tsarnaevs'}]}, {'JC002YBW0-E8': [{'question': 'Where buys?', 'answer': 'Target'}, {'question': 'Who buys?', 'answer': 'Tamerlan Tsarnaev'}, {'question': 'Who buys?', 'answer': 'backpacks'}]}, {'JC002YBW0-E9': [{'question': 'Who purchases?', 'answer': 'ammunition'}, {'question': 'Who purchases?', 'answer': 'Tamerlan Tsarnaev'}]}, {'JC002YBW0-E10': [{'question': 'Who bought?', 'answer': 'devices'}, {'question': 'Who bought?', 'answer': 'Tamerlan'}]}, {'JC002YBW0-E11': [{'question': 'Who bought?', 'answer': 'gun'}, {'question': 'Who bought?', 'answer': 'Tamerlan Tsarnaev'}, {'question': 'Who bought?', 'answer': 'screwdriver'}]}, {'JC002YBW0-E12': [{'question': 'Who rented?', 'answer': 'brothers'}, {'question': 'Who rented?', 'answer': 'handguns'}]}, {'JC002YBW0-E13': [{'question': 'Where purchases?', 'answer': 'Walmart'}, {'question': 'Who purchases?', 'answer': 'BBs'}, {'question': 'Who purchases?', 'answer': 'Tamerlan Tsarnaev'}]}, {'JC002YBW0-E14': [{'question': 'Who make an online purchase?', 'answer': 'car'}, {'question': 'Who make an online purchase?', 'answer': 'transmitter'}, {'question': 'Who make an online purchase?', 'answer': 'receiver'}, {'question': 'Who make an online purchase?', 'answer': 'Tamerlan Tsarnaev'}]}, {'JC002YBW0-E20': [{'question': 'Where found?', 'answer': 'room'}, {'question': 'Who found?', 'answer': 'they'}, {'question': 'Who found?', 'answer': 'BB gun'}]}, {'JC002YBW0-E19': [{'question': 'Who worked?', 'answer': 'Tsarnaev and Silva'}, {'question': 'Who worked?', 'answer': 'Harvard pool'}]}, {'JC002YBW0-E18': [{'question': 'Who obtained?', 'answer': 'gun'}, {'question': 'Who obtained?', 'answer': 'Silva'}]}, {'JC002YBW0-E15': [{'question': 'Who buys?', 'answer': 'Tamerlan'}]}, {'JC002YBW0-E17': [{'question': 'Who borrows?', 'answer': 'Dzhokhar Tsarnaev'}, {'question': 'Who borrows?', 'answer': 'Ruger pistol'}, {'question': 'Who borrows?', 'answer': 'Silva'}]}, {'JC002YBW0-E16': []}, {'JC002YBW0-E22': []}, {'JC002YBW0-E23': []}, {'JC002YBW0-E1': []}, {'JC002YBW0-E25': []}, {'JC002YBW0-E24': []}]}, 'scenario_en_kairos_16': {'events': [{'scenario_en_kairos_16-E1': [{'question': 'Where bombings?', 'answer': 'East Africa'}, {'question': 'Who bombings?', 'answer': 'Osama bin Laden'}, {'question': 'Who bombings?', 'answer': 'embassies'}]}, {'scenario_en_kairos_16-E2': [{'question': 'Who attack?', 'answer': 'USS Cole'}, {'question': 'Where attack?', 'answer': 'Yemeni port'}]}, {'scenario_en_kairos_16-E3': [{'question': 'Where destruction?', 'answer': 'World Trade Center'}]}, {'scenario_en_kairos_16-E4': [{'question': 'Where bombing?', 'answer': 'World Trade Center'}, {'question': 'Who bombing?', 'answer': 'Pentagon'}]}]}, 'suicide_ied_100': {'events': [{'suicide_ied_100-E1': [{'question': 'Where bombings?', 'answer': 'Charikar and Kabul'}, {'question': 'Who bombings?', 'answer': 'people'}, {'question': 'Who bombings?', 'answer': 'bomber'}]}, {'suicide_ied_100-E2': [{'question': 'Where killed?', 'answer': 'Charikar and Kabul'}, {'question': 'Who killed?', 'answer': 'people'}]}, {'suicide_ied_100-E3': []}, {'suicide_ied_100-E4': [{'question': 'Who killed?', 'answer': '26'}]}, {'suicide_ied_100-E5': [{'question': 'Who wounded?', 'answer': '42'}]}, {'suicide_ied_100-E6': [{'question': 'Where bombing?', 'answer': 'Kabul'}, {'question': 'Who bombing?', 'answer': 'US embassy'}]}, {'suicide_ied_100-E7': [{'question': 'Who killed?', 'answer': '22'}]}, {'suicide_ied_100-E8': [{'question': 'Who injured?', 'answer': '38'}]}, {'suicide_ied_100-E9': []}, {'suicide_ied_100-E10': [{'question': 'Who killed?', 'answer': 'soldiers'}]}, {'suicide_ied_100-E11': []}, {'suicide_ied_100-E12': [{'question': 'Who claimed?', 'answer': 'Taliban'}]}, {'suicide_ied_100-E13': [{'question': 'Who attacks?', 'answer': 'Taliban'}]}, {'suicide_ied_100-E14': [{'question': 'Who attacks?', 'answer': 'they'}]}, {'suicide_ied_100-E15': [{'question': 'Where attack?', 'answer': 'Charikar'}]}, {'suicide_ied_100-E17': [{'question': 'Who drove into?', 'answer': 'explosives'}, {'question': 'Who drove into?', 'answer': 'bomber'}, {'question': 'What drove into?', 'answer': 'motorcycle'}, {'question': 'Where drove into?', 'answer': 'checkpoint'}]}, {'suicide_ied_100-E16': [{'question': 'What detonated?', 'answer': 'explosives'}, {'question': 'Who detonated?', 'answer': 'bomber'}, {'question': 'Who detonated?', 'answer': 'crowd'}]}, {'suicide_ied_100-E18': [{'question': 'Who killed?', 'answer': 'bomber'}, {'question': 'Who killed?', 'answer': 'people'}]}, {'suicide_ied_100-E19': [{'question': 'Who injured?', 'answer': 'others'}]}, {'suicide_ied_100-E20': [{'question': 'Who attack?', 'answer': 'victims'}]}, {'suicide_ied_100-E21': []}, {'suicide_ied_100-E22': []}, {'suicide_ied_100-E24': [{'question': 'Who killed?', 'answer': 'people'}]}, {'suicide_ied_100-E25': [{'question': 'Who attack?', 'answer': 'people'}]}, {'suicide_ied_100-E26': [{'question': 'Who injured?', 'answer': '38'}]}, {'suicide_ied_100-E27': [{'question': 'Who claimed?', 'answer': 'Taliban'}]}, {'suicide_ied_100-E28': [{'question': 'Who attacks?', 'answer': 'Taliban'}]}, {'suicide_ied_100-E29': []}, {'suicide_ied_100-E30': [{'question': 'Who discourage?', 'answer': 'they'}, {'question': 'Who discourage?', 'answer': 'people'}]}, {'suicide_ied_100-E31': [{'question': 'Who said?', 'answer': 'Taliban'}]}, {'suicide_ied_100-E32': []}, {'suicide_ied_100-E33': [{'question': 'Where took place?', 'answer': 'Massoud Square'}]}, {'suicide_ied_100-E23': [{'question': 'Who stated?', 'answer': 'Taliban'}]}]}, '23_VOA_EN_NW_2015.11.24.3071320': {'events': [{'23_VOA_EN_NW_2015.11.24.3071320-E1': [{'question': 'Who Indict?', 'answer': '2'}, {'question': 'Who Indict?', 'answer': 'Authorities'}]}, {'23_VOA_EN_NW_2015.11.24.3071320-E2': [{'question': 'Where Attack?', 'answer': 'Bangkok'}, {'question': 'Who Attack?', 'answer': 'shrine'}]}, {'23_VOA_EN_NW_2015.11.24.3071320-E3': [{'question': 'Who indicted?', 'answer': 'court'}, {'question': 'Who indicted?', 'answer': 'men'}, {'question': 'Where indicted?', 'answer': 'Bangkok'}]}, {'23_VOA_EN_NW_2015.11.24.3071320-E4': [{'question': 'Where bombing?', 'answer': 'Bangkok'}, {'question': 'Who bombing?', 'answer': 'men'}, {'question': 'Who bombing?', 'answer': 'shrine'}]}, {'23_VOA_EN_NW_2015.11.24.3071320-E5': [{'question': 'Who killed?', 'answer': 'people'}]}, {'23_VOA_EN_NW_2015.11.24.3071320-E6': [{'question': 'Who indicted?', 'answer': 'court'}, {'question': 'Who indicted?', 'answer': 'Bilal Mohammed and Mieraili Yusufu'}]}, {'23_VOA_EN_NW_2015.11.24.3071320-E7': []}, {'23_VOA_EN_NW_2015.11.24.3071320-E8': [{'question': 'Who detained?', 'answer': 'Bilal and Mieraili'}]}, {'23_VOA_EN_NW_2015.11.24.3071320-E9': [{'question': 'Who arrests?', 'answer': 'They'}]}, {'23_VOA_EN_NW_2015.11.24.3071320-E10': [{'question': 'Who said?', 'answer': 'officials'}]}, {'23_VOA_EN_NW_2015.11.24.3071320-E11': [{'question': 'Who blast?', 'answer': 'gang'}]}, {'23_VOA_EN_NW_2015.11.24.3071320-E12': [{'question': 'Where blast?', 'answer': 'Bangkok'}, {'question': 'Who blast?', 'answer': 'Erawan Shrine'}]}, {'23_VOA_EN_NW_2015.11.24.3071320-E13': [{'question': 'Where dead?', 'answer': 'Bangkok'}, {'question': 'Who dead?', 'answer': 'people'}]}, {'23_VOA_EN_NW_2015.11.24.3071320-E14': [{'question': 'Who injured?', 'answer': '120'}]}, {'23_VOA_EN_NW_2015.11.24.3071320-E15': [{'question': 'Who dead?', 'answer': 'tourists'}]}, {'23_VOA_EN_NW_2015.11.24.3071320-E16': [{'question': 'Where attack?', 'answer': 'capital'}]}, {'23_VOA_EN_NW_2015.11.24.3071320-E17': [{'question': 'Who arrests?', 'answer': 'Police'}]}, {'23_VOA_EN_NW_2015.11.24.3071320-E18': [{'question': 'Who raids?', 'answer': 'Police'}]}, {'23_VOA_EN_NW_2015.11.24.3071320-E19': [{'question': 'Who claimed?', 'answer': 'Police'}]}, {'23_VOA_EN_NW_2015.11.24.3071320-E20': [{'question': 'Who indictments?', 'answer': 'suspects'}]}, {'23_VOA_EN_NW_2015.11.24.3071320-E21': [{'question': 'Who arrived?', 'answer': 'suspects'}]}, {'23_VOA_EN_NW_2015.11.24.3071320-E22': [{'question': 'Where bombing?', 'answer': 'Erawan Shrine'}]}, {'23_VOA_EN_NW_2015.11.24.3071320-E23': [{'question': 'Who repatriated?', 'answer': 'Uighurs'}, {'question': 'Who repatriated?', 'answer': 'Thailand'}, {'question': 'Where repatriated?', 'answer': 'China'}]}, {'23_VOA_EN_NW_2015.11.24.3071320-E24': [{'question': 'Where bombing?', 'answer': 'Erawan Shrine'}, {'question': 'Who bombing?', 'answer': 'victims'}]}, {'23_VOA_EN_NW_2015.11.24.3071320-E25': [{'question': 'Who reject?', 'answer': 'officials'}]}, {'23_VOA_EN_NW_2015.11.24.3071320-E26': [{'question': 'Who attack?', 'answer': 'shrine'}, {'question': 'Who attack?', 'answer': 'police'}]}, {'23_VOA_EN_NW_2015.11.24.3071320-E27': [{'question': 'Who explanation?', 'answer': 'police'}]}, {'23_VOA_EN_NW_2015.11.24.3071320-E28': [{'question': 'Who tried?', 'answer': 'suspects'}, {'question': 'Where tried?', 'answer': 'Bangkok'}, {'question': 'Who tried?', 'answer': ''}]}, {'23_VOA_EN_NW_2015.11.24.3071320-E29': [{'question': 'Who said?', 'answer': 'Somyot Poomphanmuang'}]}, {'23_VOA_EN_NW_2015.11.24.3071320-E30': [{'question': 'Where left?', 'answer': 'shrine'}, {'question': 'Who left?', 'answer': 'he'}]}, {'23_VOA_EN_NW_2015.11.24.3071320-E31': [{'question': 'Where blast?', 'answer': 'Bangkok'}]}, {'23_VOA_EN_NW_2015.11.24.3071320-E32': [{'question': 'Who detonated?', 'answer': 'Yusufu'}, {'question': 'What detonated?', 'answer': 'bomb'}]}, {'23_VOA_EN_NW_2015.11.24.3071320-E33': [{'question': 'Who arrested?', 'answer': 'he'}]}, {'23_VOA_EN_NW_2015.11.24.3071320-E34': [{'question': 'Who arrested?', 'answer': 'He'}, {'question': 'Who arrested?', 'answer': 'police'}, {'question': 'Where arrested?', 'answer': 'apartments'}]}, {'23_VOA_EN_NW_2015.11.24.3071320-E35': [{'question': 'Where arrested?', 'answer': 'Cambodia border'}, {'question': 'Who arrested?', 'answer': 'Yusufu'}]}, {'23_VOA_EN_NW_2015.11.24.3071320-E36': [{'question': 'Who said?', 'answer': 'Police'}]}, {'23_VOA_EN_NW_2015.11.24.3071320-E37': [{'question': 'Who said?', 'answer': 'confessions'}, {'question': 'Who said?', 'answer': 'Police'}]}, {'23_VOA_EN_NW_2015.11.24.3071320-E38': [{'question': 'Who says?', 'answer': 'He'}]}, {'23_VOA_EN_NW_2015.11.24.3071320-E39': []}, {'23_VOA_EN_NW_2015.11.24.3071320-E40': [{'question': 'Who declined?', 'answer': 'Authorities'}]}, {'23_VOA_EN_NW_2015.11.24.3071320-E41': [{'question': 'Who said?', 'answer': 'Chuchart Kanpai'}]}]}, 'K0C041O37': {'events': [{'K0C041O37-E1': [{'question': 'Where attack?', 'answer': 'drones'}, {'question': 'Who attack?', 'answer': 'president'}]}, {'K0C041O37-E2': [{'question': 'Where attack?', 'answer': 'drones'}, {'question': 'Who attack?', 'answer': 'president'}]}, {'K0C041O37-E3': [{'question': 'Where attempt?', 'answer': 'drones'}, {'question': 'Who attempt?', 'answer': 'Nicolás Maduro'}]}, {'K0C041O37-E5': [{'question': 'Who analysis?', 'answer': 'Bellingcat'}]}, {'K0C041O37-E7': [{'question': 'What detonated?', 'answer': 'drone'}, {'question': 'Where detonated?', 'answer': 'presidential'}]}, {'K0C041O37-E8': [{'question': 'Where disoriented?', 'answer': 'drone'}]}, {'K0C041O37-E6': [{'question': 'What crashed?', 'answer': 'drone'}, {'question': 'Who crashed?', 'answer': ''}, {'question': 'Who crashed?', 'answer': 'building'}]}, {'K0C041O37-E9': [{'question': 'Who attack?', 'answer': 'Maduro'}, {'question': 'Where attack?', 'answer': 'DBIEDs'}]}, {'K0C041O37-E10': [{'question': 'Who detonated?', 'answer': 'apartment'}, {'question': 'What detonated?', 'answer': 'drone'}]}, {'K0C041O37-E12': [{'question': 'Who crashed?', 'answer': 'apartment'}, {'question': 'What crashed?', 'answer': 'drone'}, {'question': 'Who crashed?', 'answer': ''}]}, {'K0C041O37-E13': [{'question': 'What detonated?', 'answer': 'drone'}]}, {'K0C041O37-E14': [{'question': 'Who crashed?', 'answer': ''}, {'question': 'What crashed?', 'answer': 'drone'}]}, {'K0C041O37-E16': [{'question': 'Who speech?', 'answer': 'president'}]}, {'K0C041O37-E17': [{'question': 'Who claimed?', 'answer': 'minister'}]}, {'K0C041O37-E18': [{'question': 'Who says?', 'answer': 'Bellingcat'}]}, {'K0C041O37-E19': [{'question': 'Who announced?', 'answer': 'casualties'}, {'question': 'Who announced?', 'answer': 'government'}]}]}, 'wiki_mass_car_bombings_7_news_2': {'events': [{'wiki_mass_car_bombings_7_news_2-E1': [{'question': 'Where attacks?', 'answer': 'Iraq'}]}, {'wiki_mass_car_bombings_7_news_2-E2': [{'question': 'Who killed?', 'answer': 'people'}]}, {'wiki_mass_car_bombings_7_news_2-E3': [{'question': 'What attack?', 'answer': 'bomb'}, {'question': 'Who attack?', 'answer': 'responders'}, {'question': 'Where attack?', 'answer': 'town'}]}, {'wiki_mass_car_bombings_7_news_2-E4': [{'question': 'Who killed?', 'answer': 'people'}]}, {'wiki_mass_car_bombings_7_news_2-E5': [{'question': 'Who deaths?', 'answer': 'baby'}, {'question': 'Who deaths?', 'answer': 'woman'}]}, {'wiki_mass_car_bombings_7_news_2-E6': [{'question': 'Who destroyed?', 'answer': 'houses'}]}, {'wiki_mass_car_bombings_7_news_2-E7': [{'question': 'Where killed?', 'answer': 'Sadr City'}, {'question': 'Who killed?', 'answer': 'people'}]}, {'wiki_mass_car_bombings_7_news_2-E8': [{'question': 'Who explosions?', 'answer': 'Husseiniyah and Yarmouk'}]}, {'wiki_mass_car_bombings_7_news_2-E9': [{'question': 'What blasts?', 'answer': 'bomb'}, {'question': 'Where blasts?', 'answer': 'Diyala province'}]}, {'wiki_mass_car_bombings_7_news_2-E10': [{'question': 'Where attacks?', 'answer': 'Dhuluiyah'}, {'question': 'Who attacks?', 'answer': 'Insurgents'}, {'question': 'Who attacks?', 'answer': 'base'}]}, {'wiki_mass_car_bombings_7_news_2-E11': [{'question': 'Who killing?', 'answer': 'soldiers'}, {'question': 'Where killing?', 'answer': 'Dhuluiyah'}, {'question': 'Who killing?', 'answer': 'Insurgents'}]}, {'wiki_mass_car_bombings_7_news_2-E12': [{'question': 'Who wounded?', 'answer': 'Insurgents'}, {'question': 'Who wounded?', 'answer': 'others'}]}, {'wiki_mass_car_bombings_7_news_2-E13': [{'question': 'Who shooting?', 'answer': 'checkpoint'}, {'question': 'Where shooting?', 'answer': 'car bomb'}]}, {'wiki_mass_car_bombings_7_news_2-E14': [{'question': 'What blasts?', 'answer': 'bomb'}, {'question': 'Where blasts?', 'answer': 'Kirkuk'}, {'question': 'Where blasts?', 'answer': 'Tuz Khurmatu'}]}, {'wiki_mass_car_bombings_7_news_2-E15': [{'question': 'What blast?', 'answer': 'bomb'}, {'question': 'Where blast?', 'answer': 'city'}]}, {'wiki_mass_car_bombings_7_news_2-E16': [{'question': 'Who dead?', 'answer': 'people'}]}, {'wiki_mass_car_bombings_7_news_2-E17': [{'question': 'Who exploded?', 'answer': 'patrol'}, {'question': 'Where exploded?', 'answer': 'Heet'}, {'question': 'What exploded?', 'answer': 'bomb'}]}, {'wiki_mass_car_bombings_7_news_2-E18': [{'question': 'Where bombings?', 'answer': 'Iraq'}]}]}, 'wiki_mass_car_bombings_0_news_9': {'events': [{'wiki_mass_car_bombings_0_news_9-E1': [{'question': 'Who request?', 'answer': 'Colombia'}, {'question': 'Who request?', 'answer': 'Cuba'}]}, {'wiki_mass_car_bombings_0_news_9-E2': [{'question': 'Who sidesteps?', 'answer': 'Cuba'}]}, {'wiki_mass_car_bombings_0_news_9-E3': [{'question': 'Where bombing?', 'answer': 'Bogota'}]}, {'wiki_mass_car_bombings_0_news_9-E4': [{'question': 'Who urged?', 'answer': 'Cuba'}, {'question': 'Who urged?', 'answer': 'Ivan Duque'}]}, {'wiki_mass_car_bombings_0_news_9-E5': [{'question': 'Who killed?', 'answer': 'attacker'}, {'question': 'Who killed?', 'answer': 'people'}]}, {'wiki_mass_car_bombings_0_news_9-E6': [{'question': 'Who bombing?', 'answer': 'academy'}, {'question': 'Where bombing?', 'answer': 'Bogota'}, {'question': 'Who bombing?', 'answer': 'ELN'}]}, {'wiki_mass_car_bombings_0_news_9-E7': [{'question': 'Who asked?', 'answer': 'Cuba'}, {'question': 'Who asked?', 'answer': 'Colombia'}]}, {'wiki_mass_car_bombings_0_news_9-E8': [{'question': 'Who capture?', 'answer': 'Cuba'}, {'question': 'Who capture?', 'answer': 'Nicolas Rodriguez'}]}, {'wiki_mass_car_bombings_0_news_9-E9': [{'question': 'Who protest?', 'answer': 'Colombians'}]}]}, 'wiki_ied_bombings_5_news_3': {'events': [{'wiki_ied_bombings_5_news_3-E1': [{'question': 'Where bombings?', 'answer': 'Birmingham'}, {'question': 'Who bombings?', 'answer': 'pub'}]}, {'wiki_ied_bombings_5_news_3-E2': [{'question': 'Who attacks?', 'answer': 'The Mulberry Bush and The Tavern'}, {'question': 'Who attacks?', 'answer': 'He'}]}, {'wiki_ied_bombings_5_news_3-E3': [{'question': 'Who bombings?', 'answer': 'pub'}, {'question': 'Where bombings?', 'answer': 'Birmingham'}]}, {'wiki_ied_bombings_5_news_3-E4': [{'question': 'Who dead?', 'answer': '21'}]}, {'wiki_ied_bombings_5_news_3-E5': [{'question': 'Who injured?', 'answer': '200'}]}, {'wiki_ied_bombings_5_news_3-E6': [{'question': 'Who maimed?', 'answer': 'many'}]}, {'wiki_ied_bombings_5_news_3-E7': [{'question': 'Who arrested?', 'answer': 'Irishmen'}]}, {'wiki_ied_bombings_5_news_3-E8': [{'question': 'Where bombings?', 'answer': 'Birmingham'}, {'question': 'Who bombings?', 'answer': 'pub'}]}, {'wiki_ied_bombings_5_news_3-E9': [{'question': 'Who bombings?', 'answer': 'soldiers'}]}, {'wiki_ied_bombings_5_news_3-E10': [{'question': 'Who died?', 'answer': 'James McDade'}]}, {'wiki_ied_bombings_5_news_3-E11': [{'question': 'Who killed?', 'answer': 'people'}]}, {'wiki_ied_bombings_5_news_3-E12': [{'question': 'Who injured?', 'answer': 'others'}]}, {'wiki_ied_bombings_5_news_3-E13': [{'question': 'Where bombings?', 'answer': 'Birmingham'}, {'question': 'Who bombings?', 'answer': 'pub'}]}, {'wiki_ied_bombings_5_news_3-E14': [{'question': 'Where bombings?', 'answer': 'Guildford'}, {'question': 'Where bombings?', 'answer': 'Birmingham'}, {'question': 'Who bombings?', 'answer': 'pub'}]}, {'wiki_ied_bombings_5_news_3-E15': [{'question': 'Who death?', 'answer': 'James McDade'}]}, {'wiki_ied_bombings_5_news_3-E16': [{'question': 'Who told?', 'answer': 'he'}]}, {'wiki_ied_bombings_5_news_3-E17': [{'question': 'Who said?', 'answer': 'Julie'}]}, {'wiki_ied_bombings_5_news_3-E18': [{'question': 'Who added?', 'answer': 'Brian'}]}, {'wiki_ied_bombings_5_news_3-E19': [{'question': 'Who says?', 'answer': 'Conway'}]}, {'wiki_ied_bombings_5_news_3-E20': [{'question': 'Who continued?', 'answer': 'He'}]}, {'wiki_ied_bombings_5_news_3-E21': [{'question': 'Who said?', 'answer': 'He'}]}, {'wiki_ied_bombings_5_news_3-E22': [{'question': 'Who met up?', 'answer': 'Kevin Mallon'}]}, {'wiki_ied_bombings_5_news_3-E23': [{'question': 'What blew?', 'answer': 'bomb'}, {'question': 'Who blew?', 'answer': 'Coventry Telephone exchange'}, {'question': 'Who blew?', 'answer': 'McDade'}]}, {'wiki_ied_bombings_5_news_3-E24': [{'question': 'Where bombings?', 'answer': 'Coventry'}, {'question': 'Who bombings?', 'answer': 'pub'}]}, {'wiki_ied_bombings_5_news_3-E25': [{'question': 'Who call?', 'answer': 'Mail'}]}, {'wiki_ied_bombings_5_news_3-E26': [{'question': 'What destroyed?', 'answer': 'bomb'}, {'question': 'Who destroyed?', 'answer': 'Mulberry Bush'}]}, {'wiki_ied_bombings_5_news_3-E27': [{'question': 'Who said?', 'answer': 'he'}]}, {'wiki_ied_bombings_5_news_3-E28': [{'question': 'Who said?', 'answer': 'he'}]}]}, 'wiki_drone_strikes_1_news_1': {'events': [{'wiki_drone_strikes_1_news_1-E1': [{'question': 'Who arrested?', 'answer': 'police'}, {'question': 'Who arrested?', 'answer': 'man'}]}, {'wiki_drone_strikes_1_news_1-E2': [{'question': 'Who found?', 'answer': 'drone'}, {'question': 'Who found?', 'answer': 'radioactive'}]}, {'wiki_drone_strikes_1_news_1-E4': [{'question': 'What crashed?', 'answer': 'drone'}, {'question': 'Who crashed?', 'answer': 'employee'}, {'question': 'Who crashed?', 'answer': 'White House grounds'}]}, {'wiki_drone_strikes_1_news_1-E5': [{'question': 'Why disaster?', 'answer': ''}, {'question': 'Who disaster?', 'answer': 'Fukushima'}]}, {'wiki_drone_strikes_1_news_1-E6': [{'question': 'Who arrested?', 'answer': 'Yamamoto'}, {'question': 'Who arrested?', 'answer': 'Police'}]}, {'wiki_drone_strikes_1_news_1-E7': [{'question': 'Who obstructing duties?', 'answer': 'Yamamoto'}, {'question': 'Where obstructing duties?', 'answer': 'office'}]}, {'wiki_drone_strikes_1_news_1-E8': [{'question': 'Who attacks?', 'answer': 'terrorist'}, {'question': 'Where attacks?', 'answer': 'drone'}]}]}, 'scenario_en_kairos_2': {'events': [{'scenario_en_kairos_2-E1': [{'question': 'Who Murder?', 'answer': 'Nationals'}, {'question': 'Who Murder?', 'answer': 'ABDULLAH AHMED ABDULLAH'}]}, {'scenario_en_kairos_2-E2': []}, {'scenario_en_kairos_2-E3': [{'question': 'Who Attack?', 'answer': 'Federal Facility'}]}, {'scenario_en_kairos_2-E4': [{'question': 'Who Death?', 'answer': 'Nationals'}]}, {'scenario_en_kairos_2-E5': [{'question': 'Who Kill?', 'answer': 'Nationals'}]}, {'scenario_en_kairos_2-E6': []}, {'scenario_en_kairos_2-E7': [{'question': 'Where Destroy?', 'answer': 'United States'}, {'question': 'Where Destroy?', 'answer': 'Buildings and Property'}]}, {'scenario_en_kairos_2-E8': [{'question': 'Where Destroy?', 'answer': 'National Defense Utilities'}]}]}}\n"
     ]
    }
   ],
   "source": [
    "print(op_dictionary)"
   ]
  },
  {
   "cell_type": "code",
   "execution_count": 59,
   "id": "bcb7e4cd",
   "metadata": {},
   "outputs": [
    {
     "name": "stdout",
     "output_type": "stream",
     "text": [
      "Data saved to Rule_BasedQG_pred.json\n"
     ]
    }
   ],
   "source": [
    "pretty_json = json.dumps(op_dictionary, indent=4)\n",
    "output_file_path = 'Rule_BasedQG_pred.json'\n",
    "with open(output_file_path, 'w') as output_file:\n",
    "    output_file.write(pretty_json)\n",
    "print(f\"Data saved to {output_file_path}\")"
   ]
  },
  {
   "cell_type": "code",
   "execution_count": 61,
   "id": "e3ae89f9",
   "metadata": {},
   "outputs": [
    {
     "name": "stdout",
     "output_type": "stream",
     "text": [
      "Target Sentence:\n",
      "READ MORE: FBI agent whose tip thwarted 2016 ISIS <b>attack</b> in Ontario says he was glad to help\n",
      "\n",
      "Sentence Before:\n",
      "A settlement has been reached in a $1-million lawsuit filed by a taxi driver accusing police of negligence after he got caught up in the August 2016 take-down of ISIS-sympathizer Aaron Driver\n",
      "\n",
      "Sentence After:\n",
      "Terry Duffield was injured when Driver detonated a homemade explosive in the back of his cab in August 2016\n"
     ]
    }
   ],
   "source": [
    "import nltk\n",
    "from nltk.tokenize import sent_tokenize\n",
    "# Input text\n",
    "input_text = \"A settlement has been reached in a $1-million lawsuit filed by a taxi driver accusing police of negligence after he got caught up in the August 2016 take-down of ISIS-sympathizer Aaron Driver. READ MORE: FBI agent whose tip thwarted 2016 ISIS <b>attack</b> in Ontario says he was glad to help. Terry Duffield was injured when Driver detonated a homemade explosive in the back of his cab in August 2016. “I have to be very careful because there is an agreement to not disclose any of the terms of the settlement,” Duffield’s lawyer Kevin Egan told 980 CFPL.\"\n",
    "\n",
    "# Target word to locate\n",
    "target_word = \"attack\"\n",
    "\n",
    "# Tokenize the text into sentences using full stops as separators\n",
    "sentences = input_text.split('. ')\n",
    "\n",
    "# Find the sentence containing the target word and extract the adjacent sentences\n",
    "target_sentence = None\n",
    "for i, sentence in enumerate(sentences):\n",
    "    if target_word in sentence:\n",
    "        target_sentence = sentence\n",
    "        before_sentence = sentences[i - 1] if i > 0 else None\n",
    "        after_sentence = sentences[i + 1] if i < len(sentences) - 1 else None\n",
    "        break\n",
    "\n",
    "# Print the results\n",
    "print(\"Target Sentence:\")\n",
    "print(target_sentence)\n",
    "\n",
    "if before_sentence:\n",
    "    print(\"\\nSentence Before:\")\n",
    "    print(before_sentence)\n",
    "\n",
    "if after_sentence:\n",
    "    print(\"\\nSentence After:\")\n",
    "    print(after_sentence)\n",
    "\n"
   ]
  },
  {
   "cell_type": "code",
   "execution_count": 64,
   "id": "2750df0b",
   "metadata": {},
   "outputs": [
    {
     "data": {
      "text/plain": [
       "str"
      ]
     },
     "execution_count": 64,
     "metadata": {},
     "output_type": "execute_result"
    }
   ],
   "source": [
    "type(target_sentence)"
   ]
  },
  {
   "cell_type": "code",
   "execution_count": null,
   "id": "2761a5c0",
   "metadata": {},
   "outputs": [],
   "source": []
  }
 ],
 "metadata": {
  "kernelspec": {
   "display_name": "Python 3 (ipykernel)",
   "language": "python",
   "name": "python3"
  },
  "language_info": {
   "codemirror_mode": {
    "name": "ipython",
    "version": 3
   },
   "file_extension": ".py",
   "mimetype": "text/x-python",
   "name": "python",
   "nbconvert_exporter": "python",
   "pygments_lexer": "ipython3",
   "version": "3.9.12"
  }
 },
 "nbformat": 4,
 "nbformat_minor": 5
}
