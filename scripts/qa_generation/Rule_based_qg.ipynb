{
 "cells": [
  {
   "cell_type": "code",
   "execution_count": 45,
   "id": "2f8ab63c",
   "metadata": {},
   "outputs": [],
   "source": [
    "import json\n",
    "\n",
    "ip_gold = \"../predictions_extractions.json\"\n",
    "ip_kairos= \"../event_role_KAIROS.json\""
   ]
  },
  {
   "cell_type": "code",
   "execution_count": 50,
   "id": "88fcdcad",
   "metadata": {},
   "outputs": [],
   "source": [
    "with open(ip_gold, 'r') as json_file:\n",
    "    gold_data = json.load(json_file)\n",
    "with open(ip_kairos, 'r') as json_file2:\n",
    "    kairos_role = json.load(json_file2)    "
   ]
  },
  {
   "cell_type": "code",
   "execution_count": 47,
   "id": "d2b71c82",
   "metadata": {},
   "outputs": [
    {
     "data": {
      "text/plain": [
       "'<arg1> damaged <arg2> using <arg3> instrument in <arg4> place'"
      ]
     },
     "execution_count": 47,
     "metadata": {},
     "output_type": "execute_result"
    }
   ],
   "source": [
    "kairos_role[\"ArtifactExistence.DamageDestroyDisableDismantle.Damage\"][\"template\"]"
   ]
  },
  {
   "cell_type": "code",
   "execution_count": 51,
   "id": "d4349477",
   "metadata": {},
   "outputs": [],
   "source": [
    "total_role_types={}\n",
    "for key,value in kairos_role.items():\n",
    "    for i in range(len(value['roles'])):\n",
    "        if(value['roles'][i] not in total_role_types.keys()):\n",
    "            total_role_types[value['roles'][i]]=set()\n",
    "        total_role_types[value['roles'][i]].update(value['role_types'][i])"
   ]
  },
  {
   "cell_type": "code",
   "execution_count": 52,
   "id": "bcdbe086",
   "metadata": {},
   "outputs": [
    {
     "name": "stdout",
     "output_type": "stream",
     "text": [
      "80\n"
     ]
    }
   ],
   "source": [
    "print(len(total_role_types))"
   ]
  },
  {
   "cell_type": "code",
   "execution_count": 53,
   "id": "0daab940",
   "metadata": {},
   "outputs": [],
   "source": [
    "question_map = {}\n",
    "for key, value in total_role_types.items():\n",
    "    if (\"per\" in value or \"org\" in value):\n",
    "        if(\"Who\" not in question_map.keys()):\n",
    "            question_map[\"Who\"]=[]\n",
    "        question_map[\"Who\"].append(key)\n",
    "    elif (\"per\" in value or \"org\" in value):\n",
    "        if(\"Whom\" not in question_map.keys()):\n",
    "            question_map[\"Whom\"]=[]\n",
    "        question_map[\"Whom\"].append(key)\n",
    "    elif (\"loc\" in value or \"fac\" in value):\n",
    "        if(\"Where\" not in question_map.keys()):\n",
    "            question_map[\"Where\"]=[]\n",
    "        question_map[\"Where\"].append(key)\n",
    "    elif (\"mhi\" in value):\n",
    "        if(\"Why\" not in question_map.keys()):\n",
    "            question_map[\"Why\"]=[]\n",
    "        question_map[\"Why\"].append(key)\n",
    "    elif (\"mhi\" in value):\n",
    "        if(\"How\" not in question_map.keys()):\n",
    "            question_map[\"How\"]=[]\n",
    "        question_map[\"How\"].append(key)\n",
    "    else:\n",
    "        if(\"What\" not in question_map.keys()):\n",
    "            question_map[\"What\"]=[]\n",
    "        question_map[\"What\"].append(key)\n",
    "    "
   ]
  },
  {
   "cell_type": "code",
   "execution_count": 54,
   "id": "dfed0b47",
   "metadata": {},
   "outputs": [],
   "source": [
    "op_dictionary={}"
   ]
  },
  {
   "cell_type": "code",
   "execution_count": 55,
   "id": "2f1795e0",
   "metadata": {},
   "outputs": [],
   "source": [
    "def find_wh(role):\n",
    "    wh_list=[]\n",
    "    for k,v in question_map.items():\n",
    "        if(role in v):\n",
    "            wh_list.append(k) \n",
    "    return wh_list"
   ]
  },
  {
   "cell_type": "code",
   "execution_count": 57,
   "id": "f5bc153e",
   "metadata": {},
   "outputs": [],
   "source": [
    "#FOR PREDICTED EXATRACTIONS\n",
    "for item in gold_data:\n",
    "    op_dictionary[item[\"doc_id\"]]={\"events\":[]}\n",
    "    for event in item[\"event_mentions\"]:\n",
    "        temp_dict={}\n",
    "        event_id=event[\"id\"]\n",
    "        trigger = event[\"trigger\"][\"text\"]\n",
    "        qa_list=[]\n",
    "        for arg in event[\"arguments\"]:\n",
    "            arg_role=arg['role']\n",
    "            arg_text=arg['text']\n",
    "            wh = find_wh(arg_role)\n",
    "            for wh_word in wh:\n",
    "                question = wh_word + ' ' + trigger + '?'\n",
    "                answer = arg_text\n",
    "                qa_dict={'question': question,'answer': answer}\n",
    "                qa_list.append(qa_dict)\n",
    "        temp_dict[event_id]=qa_list\n",
    "        op_dictionary[item[\"doc_id\"]][\"events\"].append(temp_dict)"
   ]
  },
  {
   "cell_type": "code",
   "execution_count": 40,
   "id": "ea355815",
   "metadata": {},
   "outputs": [],
   "source": [
    "#For GOLD EXTRACTIONS\n",
    "for key, value in gold_data.items():\n",
    "    op_dictionary[key]={\"events\":[]}\n",
    "    for item in value[\"event_mentions\"]:\n",
    "        temp_dict={}\n",
    "        event_id=item[\"id\"]\n",
    "        trigger = item[\"trigger\"][\"text\"]\n",
    "        qa_list=[]\n",
    "        for arg in item[\"arguments\"]:\n",
    "            arg_role=arg['role']\n",
    "            arg_text=arg['text']\n",
    "            wh = find_wh(arg_role)\n",
    "            for wh_word in wh:\n",
    "                question = wh_word + ' ' + trigger + '?'\n",
    "                answer = arg_text\n",
    "                qa_dict={'question': question,'answer': answer}\n",
    "                qa_list.append(qa_dict)\n",
    "        temp_dict[event_id]=qa_list\n",
    "        op_dictionary[key][\"events\"].append(temp_dict)"
   ]
  },
  {
   "cell_type": "code",
   "execution_count": 59,
   "id": "bcb7e4cd",
   "metadata": {},
   "outputs": [
    {
     "name": "stdout",
     "output_type": "stream",
     "text": [
      "Data saved to Rule_BasedQG_pred.json\n"
     ]
    }
   ],
   "source": [
    "pretty_json = json.dumps(op_dictionary, indent=4)\n",
    "output_file_path = 'Rule_BasedQG_pred.json'\n",
    "with open(output_file_path, 'w') as output_file:\n",
    "    output_file.write(pretty_json)\n",
    "print(f\"Data saved to {output_file_path}\")"
   ]
  },
  {
   "cell_type": "code",
   "execution_count": null,
   "id": "2761a5c0",
   "metadata": {},
   "outputs": [],
   "source": []
  }
 ],
 "metadata": {
  "kernelspec": {
   "display_name": "Python 3 (ipykernel)",
   "language": "python",
   "name": "python3"
  },
  "language_info": {
   "codemirror_mode": {
    "name": "ipython",
    "version": 3
   },
   "file_extension": ".py",
   "mimetype": "text/x-python",
   "name": "python",
   "nbconvert_exporter": "python",
   "pygments_lexer": "ipython3",
   "version": "3.9.12"
  }
 },
 "nbformat": 4,
 "nbformat_minor": 5
}
