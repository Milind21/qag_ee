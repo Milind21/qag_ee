{
  "nbformat": 4,
  "nbformat_minor": 0,
  "metadata": {
    "colab": {
      "provenance": []
    },
    "kernelspec": {
      "name": "python3",
      "display_name": "Python 3"
    },
    "language_info": {
      "name": "python"
    }
  },
  "cells": [
    {
      "cell_type": "code",
      "execution_count": 1,
      "metadata": {
        "id": "3OxC6wGAzmNd"
      },
      "outputs": [],
      "source": [
        "import json\n",
        "import spacy"
      ]
    },
    {
      "cell_type": "code",
      "source": [
        "nlp = spacy.load(\"en_core_web_sm\")\n",
        "\n",
        "# Function to calculate IoU score\n",
        "def calculate_iou(string1, string2):\n",
        "    # Tokenize both strings using spaCy\n",
        "    tokens1 = set(token.text for token in nlp(string1))\n",
        "    tokens2 = set(token.text for token in nlp(string2))\n",
        "\n",
        "    # Calculate intersection and union of tokens\n",
        "    intersection = len(tokens1 & tokens2)\n",
        "    union = len(tokens1 | tokens2)\n",
        "\n",
        "    # Calculate IoU score\n",
        "    iou_score = intersection / union\n",
        "\n",
        "    return iou_score\n",
        "\n",
        "# Example strings\n",
        "string1 = \"This is an example sentence.\"\n",
        "string2 = \"This is another example.\"\n",
        "\n",
        "# Calculate IoU score\n",
        "iou_score = calculate_iou(string1, string2)\n",
        "\n",
        "print(f\"IoU Score: {iou_score:.2f}\")"
      ],
      "metadata": {
        "colab": {
          "base_uri": "https://localhost:8080/"
        },
        "id": "3cNKMW4X0KU1",
        "outputId": "9bd0c0d7-e8e8-4df9-e128-eba95fd9b7ec"
      },
      "execution_count": 2,
      "outputs": [
        {
          "output_type": "stream",
          "name": "stdout",
          "text": [
            "IoU Score: 0.57\n"
          ]
        }
      ]
    },
    {
      "cell_type": "code",
      "source": [
        "with open('/content/GPT35_test_qa_parsed.json', 'r') as f:\n",
        "        gen_data = json.load(f)"
      ],
      "metadata": {
        "id": "Bjso7zXD0Rve"
      },
      "execution_count": 276,
      "outputs": []
    },
    {
      "cell_type": "code",
      "source": [
        "with open('/content/test2.json', 'r') as f:\n",
        "        gold_data = json.load(f)"
      ],
      "metadata": {
        "id": "xjKNZ7ug1xFP"
      },
      "execution_count": 251,
      "outputs": []
    },
    {
      "cell_type": "code",
      "source": [
        "num_match=0\n",
        "num_gold=0\n",
        "context_quest = []\n",
        "score_dict={}\n",
        "for key,value in gen_data.items():\n",
        "  for k,v in gold_data.items():\n",
        "    if(key==k):\n",
        "      for event in value[\"events\"]:\n",
        "        for key_eve, val_eve in event.items():\n",
        "          for item in v[\"events\"]:\n",
        "            if (key_eve==item[\"event_id\"]):\n",
        "              qa_pairs_gold = item[\"manual\"]\n",
        "              score_dict[item[\"event_id\"]]=[]\n",
        "              num_gold+=len(qa_pairs_gold)\n",
        "              for qa_pair_gen in val_eve:\n",
        "                iou_sc = []\n",
        "                temp_dict={}\n",
        "                for qa_pair in qa_pairs_gold:\n",
        "                  val = calculate_iou(qa_pair_gen[\"question\"],qa_pair[\"question\"])\n",
        "                  iou_sc.append(val)\n",
        "                # print(iou_sc)\n",
        "                if(iou_sc!=[]):\n",
        "                    # print(qa_pair_gen[\"question\"])\n",
        "                    # print(qa_pair[\"question\"])\n",
        "\n",
        "                    max_iou_idx = iou_sc.index(max(iou_sc))\n",
        "                    temp_dict[(qa_pair_gen[\"question\"],qa_pairs_gold[max_iou_idx][\"question\"])]=max(iou_sc)\n",
        "                    score_dict[item[\"event_id\"]].append(temp_dict)\n",
        "\n",
        "for key,value in score_dict.items():\n",
        "  for item in value:\n",
        "    for k,v in item.items():\n",
        "      if v>0:\n",
        "        num_match+=1\n",
        "\n"
      ],
      "metadata": {
        "id": "6g40ynI01yOu"
      },
      "execution_count": 259,
      "outputs": []
    },
    {
      "cell_type": "code",
      "source": [
        "print(num_match)"
      ],
      "metadata": {
        "colab": {
          "base_uri": "https://localhost:8080/"
        },
        "id": "6iFXeSePLEgH",
        "outputId": "3326ed51-4b24-4709-99cf-d502ecd30f40"
      },
      "execution_count": 260,
      "outputs": [
        {
          "output_type": "stream",
          "name": "stdout",
          "text": [
            "97\n"
          ]
        }
      ]
    },
    {
      "cell_type": "code",
      "source": [
        "print(num_gold)"
      ],
      "metadata": {
        "colab": {
          "base_uri": "https://localhost:8080/"
        },
        "id": "oY-KaGzsESTt",
        "outputId": "542e443a-6a34-4844-8ae5-db0206286163"
      },
      "execution_count": 254,
      "outputs": [
        {
          "output_type": "stream",
          "name": "stdout",
          "text": [
            "113\n"
          ]
        }
      ]
    },
    {
      "cell_type": "code",
      "source": [
        "print(score_dict)"
      ],
      "metadata": {
        "colab": {
          "base_uri": "https://localhost:8080/"
        },
        "id": "m4FdpP2HG--_",
        "outputId": "0e9dc3e8-ea90-46d2-e270-f96331d3263f"
      },
      "execution_count": 201,
      "outputs": [
        {
          "output_type": "stream",
          "name": "stdout",
          "text": [
            "{'scenario_en_kairos_68-E1': [{(\"What event triggered the speaker's apology?\", 'What religion is the bomber?'): 0.2727272727272727}, {('Who expressed guilt for the bombing?', 'Who bombed?'): 0.25}, {('Did the speaker act alone in the bombing?', 'What religion is the bomber?'): 0.16666666666666666}, {('Who did the speaker apologize to for the bombing?', 'Who bombed?'): 0.2}, {('What kind of damage did the speaker admit to causing?', 'What religion is the bomber?'): 0.21428571428571427}], 'wiki_drone_strikes_0_news_1-E1': [], 'wiki_drone_strikes_0_news_1-E2': [], 'wiki_drone_strikes_0_news_1-E3': [], 'wiki_drone_strikes_0_news_1-E4': [], 'wiki_drone_strikes_0_news_1-E5': [{('Who was killed?', 'How many people did the us estimate was killed'): 0.18181818181818182}, {('How many civilians were killed in Pakistan, Somalia, and Yemen?', 'How many people did the us estimate was killed'): 0.16666666666666666}, {('How many civilians were killed in Afghanistan in 2016?', 'How many people did the us estimate was killed'): 0.2}, {('Did the White House release figures on the number of people killed in drone strikes?', 'How many people did the us estimate was killed'): 0.14285714285714285}, {(\"How did the US's estimate of the number of civilians killed in drone strikes compare to the Bureau's estimate?\", 'How many people did the us estimate was killed'): 0.23809523809523808}], 'wiki_drone_strikes_0_news_1-E6': [], 'wiki_drone_strikes_0_news_1-E7': [], 'wiki_drone_strikes_0_news_1-E8': [], 'wiki_drone_strikes_0_news_1-E9': [], 'wiki_drone_strikes_0_news_1-E10': [{('How many deaths were recorded in drone strikes between January 2009 and the end of 2015?', 'How many civilian deaths did The Bureau record'): 0.13636363636363635}, {('', 'How many civilian deaths did The Bureau record'): 0.0}, {('\"Afghan civilian casualties have been high, with the United Nations (UN) reporting at least 85 deaths in 2016.\"', 'How many civilian deaths did The Bureau record'): 0.06896551724137931}, {('How many deaths were recorded in Pakistan in 2015?', 'How many civilian deaths did The Bureau record'): 0.21428571428571427}, {('', 'How many civilian deaths did The Bureau record'): 0.0}, {('\"Obama embraced the US drone programme, overseeing more strikes in his first year than Bush carried out during his entire presidency.\"', 'How many civilian deaths did The Bureau record'): 0.0}, {('How many deaths were reported in the unreported war in Afghanistan in 2015?', 'How many civilian deaths did The Bureau record'): 0.17647058823529413}], 'wiki_drone_strikes_0_news_1-E11': [{('What was the target of the attacks?', 'How did the pace of attacks change'): 0.2727272727272727}, {('Who carried out the attacks?', 'How did the pace of attacks change'): 0.18181818181818182}, {(\"How many strikes were carried out during Obama's presidency?\", 'How did the pace of attacks change'): 0.058823529411764705}, {('Which countries were targeted by the attacks?', 'How did the pace of attacks change'): 0.15384615384615385}, {('How many civilian casualties were there in those countries?', 'How did the pace of attacks change'): 0.0625}], 'wiki_drone_strikes_0_news_1-E12': [{('What is the event trigger in the passage?', 'Who is bombarding Afghanistan'): 0.09090909090909091}, {('', 'Which country came under US bombardment'): 0.0}, {('Air strikes', 'Which country came under US bombardment'): 0.0}, {(\"How many more air strikes were there during Obama's presidency compared to Bush's presidency?\", 'Which country came under US bombardment'): 0.0}, {('', 'Which country came under US bombardment'): 0.0}, {('\"563 strikes, largely by drones, targeted Pakistan, Somalia, and Yemen during Obama’s two terms.\"', 'Which country came under US bombardment'): 0.0}, {('How many civilians were killed in those countries?', 'Which country came under US bombardment'): 0.0}, {('', 'Which country came under US bombardment'): 0.0}], 'wiki_drone_strikes_0_news_1-E13': [], 'wiki_drone_strikes_0_news_1-E14': [], 'wiki_drone_strikes_0_news_1-E15': [], 'wiki_drone_strikes_0_news_1-E16': [], 'wiki_drone_strikes_0_news_1-E17': [], 'wiki_drone_strikes_0_news_1-E18': [], 'wiki_ied_bombings_10-E1': [{('What triggered the event?', 'Where did the IRA unit bomb the next day?'): 0.16666666666666666}, {('Where did the explosion occur?', 'Where did the IRA unit bomb the next day?'): 0.36363636363636365}, {('How many people were injured in the explosion?', 'Where did the IRA unit bomb the next day?'): 0.125}, {('Who planted the bomb?', 'Who exploded bomb next day?'): 0.375}, {('What time did the bomb explode?', 'Where did the IRA unit bomb the next day?'): 0.3333333333333333}], 'wiki_ied_bombings_10-E2': [{('How many people were injured in the bombing at the Caterham Arms public house?', 'How many people were injured?'): 0.42857142857142855}, {('', 'How many people were injured?'): 0.0}, {('\"The Balcombe Street Gang planted a time bomb in the Caterham Arms public house in Caterham, Surrey.\"', 'How many people were injured?'): 0.0}, {('Where did the bombing at the Caterham Arms public house take place?', 'Why were they injured?'): 0.0625}, {('', 'How many people were injured?'): 0.0}, {('\"The bomb exploded at 9:20.\"', 'How many people were injured?'): 0.0}, {('What was the result of the bomb explosion at the Caterham Arms public house?', 'Why were they injured?'): 0.058823529411764705}], 'wiki_ied_bombings_10-E3': [{('What type of attacks were carried out by the Balcombe Street Gang?', 'What kind of attacks were carried out?'): 0.5}, {('Where did the Balcombe Street Gang carry out their attacks?', 'Where were the attacks carried out?'): 0.38461538461538464}, {('When did the Balcombe Street Gang carry out their last previous attack?', 'When were the attacks carried out?'): 0.25}, {('How many bombs did the Balcombe Street Gang end up planting in London and elsewhere in southern England?', 'How many incident centers were set after the attack?'): 0.16666666666666666}, {(\"How many people were injured as a result of the Balcombe Street Gang's bombings?\", 'How many incident centers were set after the attack?'): 0.23809523809523808}], 'wiki_ied_bombings_10-E4': [], 'wiki_ied_bombings_10-E5': [{('What caused the injuries?', 'How many people were injured?'): 0.1}, {('', 'How many people were injured?'): 0.0}, {('\"There were no fatalities but 33 people were injured, some severely. Two off-duty soldiers lost their legs as a result of the bombing.\"', 'How many people were injured?'): 0.1}, {('Who planted the bomb?', 'How many people were injured?'): 0.1}, {('', 'How many people were injured?'): 0.0}, {('\"On 27 August 1975, a Provisional IRA bomb exploded without warning at the Caterham Arms public house in Caterham, Surrey, England.\"', 'How many people were injured?'): 0.0}, {('When did the bombing occur?', 'How many people were injured?'): 0.09090909090909091}], 'wiki_ied_bombings_10-E6': [], 'wiki_ied_bombings_10-E7': [], 'wiki_ied_bombings_10-E8': [{('What happened because of the trigger?', 'What did the blast blow off?'): 0.2727272727272727}, {('When did the explosion occur?', 'What did the blast blow off?'): 0.3}, {('Who was injured because of the explosion?', 'What did the blast blow off?'): 0.15384615384615385}, {('Where did the explosion take place?', 'What did the blast blow off?'): 0.2727272727272727}], 'wiki_ied_bombings_10-E9': [{('Whose deaths were caused by the bombings and shootings?', 'How did the people die?'): 0.14285714285714285}, {('How many deaths were caused by the bombings and shootings?', 'How many people died?'): 0.23076923076923078}, {('How many people were injured by the bombings and shootings?', 'How many people died?'): 0.3333333333333333}, {('How much damage was caused to property by the bombings and shootings?', 'How did the people die?'): 0.1875}], 'wiki_ied_bombings_10-E10': [], 'wiki_ied_bombings_10-E11': [{('What caused the damage?', 'How was the damage caused?'): 0.5714285714285714}, {('How many people were injured as a result of the attacks?', 'How was the damage caused?'): 0.2}, {('Where did the bombings take place?', 'How was the damage caused?'): 0.18181818181818182}, {('How many bombs did the IRA unit end up planting?', 'How was the damage caused?'): 0.21428571428571427}, {('What other types of actions did the IRA unit carry out besides bombings?', 'How was the damage caused?'): 0.1111111111111111}], 'wiki_ied_bombings_10-E12': [{('Who lost their legs as a result of the bombing?', 'Who lost their legs?'): 0.45454545454545453}, {('', 'Who lost their legs?'): 0.0}, {('33 people were injured.', 'Who lost their legs?'): 0.0}, {('What was the name of the pub where the bomb exploded?', 'What did the soldiers lose?'): 0.23076923076923078}, {('', 'Who lost their legs?'): 0.0}, {('Caterham, Surrey, England.', 'Who lost their legs?'): 0.0}, {('When did the bomb explode?', 'What did the soldiers lose?'): 0.3333333333333333}], 'wiki_ied_bombings_10-E13': [{('Who was the target of the assassination attempt?', ' Who was the target of the previous assassination? '): 0.7}, {('', ' Who was the target of the previous assassination? '): 0.0}, {('On 22 December 1974.', ' Who was the target of the previous assassination? '): 0.0}, {(\"What was thrown into the former Prime Minister's bedroom window?\", 'When was the assassination attempt?'): 0.2}, {('', ' Who was the target of the previous assassination? '): 0.0}, {('No, he was not home.', 'When was the assassination attempt?'): 0.08333333333333333}, {('What was the result of the assassination attempt?', 'When was the assassination attempt?'): 0.5555555555555556}], 'wiki_ied_bombings_10-E14': [{('Who threw the bomb?', 'What did the attackers throw?'): 0.2222222222222222}, {('', 'What did the attackers throw?'): 0.0}, {('A bomb.', 'What did the attackers throw?'): 0.0}, {('Where did they throw the bomb?', 'Where did the attackers throw?'): 0.625}, {('', 'What did the attackers throw?'): 0.0}, {('Former Prime Minister Edward Heath.', 'What did the attackers throw?'): 0.0}, {('Was Edward Heath injured in the attack?', 'What did the attackers throw?'): 0.16666666666666666}], 'wiki_ied_bombings_10-E15': [{('Whose injuries are mentioned in the passage?', 'Why were the injured in pub?'): 0.25}, {('', 'Who was seriously injured in the pub?'): 0.0}, {('\"There were no fatalities but 33 people were injured.\"', 'Why were the injured in pub?'): 0.13333333333333333}, {('What caused the injuries?', 'Why were the injured in pub?'): 0.2}, {('', 'Who was seriously injured in the pub?'): 0.0}, {('\"Some of the injuries were very serious, with at least three soldiers losing limbs.\"', 'Why were the injured in pub?'): 0.09090909090909091}, {('Where did the injuries occur?', 'Why were the injured in pub?'): 0.18181818181818182}], 'wiki_ied_bombings_10-E16': [{('Who lost their legs as a result of the bombing?', 'What did the three soldiers lose?'): 0.125}, {('', 'What did the three soldiers lose?'): 0.0}, {('33 people were injured.', 'What did the three soldiers lose?'): 0.0}, {('How severe were some of the injuries?', 'What did the three soldiers lose?'): 0.15384615384615385}, {('', 'What did the three soldiers lose?'): 0.0}, {('The bomb exploded at 9:20, injuring 23 civilians and 10 off-duty soldiers.', 'What did the three soldiers lose?'): 0.045454545454545456}, {(\"What happened to the pub's roof during the blast?\", 'What did the three soldiers lose?'): 0.21428571428571427}], 'wiki_ied_bombings_10-E17': [{('What was planted?', 'What was planted?'): 1.0}, {('', 'What was planted?'): 0.0}, {('in the Caterham Arms public house in Caterham, Surrey', 'Who planted the bomb?'): 0.08333333333333333}, {('When did the bomb explode?', 'Who planted the bomb?'): 0.375}, {('', 'What was planted?'): 0.0}, {('23 civilians and 10 off-duty soldiers', 'What was planted?'): 0.0}, {('What were the consequences of the explosion?', 'What was planted?'): 0.2222222222222222}], 'wiki_ied_bombings_10-E18': [{('What were the \"incident centres\" established to monitor?', 'What is being monitored?'): 0.15384615384615385}, {('', 'What is being monitored?'): 0.0}, {('\"in Irish nationalist areas in Northern Ireland\"', 'What is being monitored?'): 0.0}, {('Who established the \"incident centres\"?', 'Who was monitoring?'): 0.2222222222222222}, {('', 'What is being monitored?'): 0.0}, {('To monitor \"the ceasefire and the activity of the security forces.\"', 'What is being monitored?'): 0.0}, {('When did the \"incident centres\" start monitoring?', 'Who was monitoring?'): 0.18181818181818182}], 'wiki_ied_bombings_10-E19': [{('What was placed by the IRA unit?', 'What was placed?'): 0.5}, {('', 'Where was the bomb placed?'): 0.0}, {('\"The Balcombe Street Gang planted a time bomb in the Caterham Arms public house in Caterham, Surrey.\"', 'Who placed the bomb?'): 0.09523809523809523}, {('Who placed the bomb?', 'Who placed the bomb?'): 1.0}, {('', 'Where was the bomb placed?'): 0.0}, {('The bomb \"exploded at 9:20.\"', 'Who placed the bomb?'): 0.09090909090909091}, {('How many people were injured by the explosion?', 'Who placed the bomb?'): 0.16666666666666666}], 'wiki_ied_bombings_10-E20': [{('What is the event triggered by the word \"charge\" here?', 'What was the police officer in charge of?'): 0.25}], 'wiki_ied_bombings_10-E21': [{('What sentences were being served by four people for the Guildford pub bombings?', ' Who is serving the sentences?'): 0.16666666666666666}], 'wiki_ied_bombings_10-E22': [{('How many people were injured?', 'When were they caught?'): 0.2222222222222222}, {('Who lost their legs as a result of the bombing?', 'Who was caught?'): 0.15384615384615385}, {('When did the bombing happen?', 'When were they caught?'): 0.2222222222222222}, {('Where did the bombing happen?', 'Where were they caught?'): 0.2222222222222222}, {('How many bombs did the IRA unit eventually plant?', 'Who was caught?'): 0.07692307692307693}], 'wiki_ied_bombings_10-E23': [{('What did the Provisional Irish Republican Army agree to?', 'When did they agree for the truce?'): 0.2857142857142857}, {('', 'Who agreed to a truce?'): 0.0}, {('\"Seven \\'incident centres\\' were established in Irish nationalist areas in Northern Ireland to monitor the ceasefire and the activity of the security forces.\"', 'Who agreed to a truce?'): 0.03571428571428571}, {('Where were the bomb and gun attacks carried out?', 'When did they agree for the truce?'): 0.125}, {('', 'Who agreed to a truce?'): 0.0}, {('\"Their last previous attack was an assassination attempt on former Prime Minister Edward Heath but he was not home when the attackers threw a bomb into his bedroom window on 22 December 1974.\"', 'Who agreed to a truce?'): 0.02631578947368421}, {('What happened after the bombing at the Caterham Arms pub?', 'When did they agree for the truce?'): 0.125}], 'backpack_ied_20-E1': [{('What is being described as a hallmark of militant groups in recent years?', 'Where is the bombing?'): 0.11764705882352941}, {('Where have such street-level bombings targeting sidewalk or marketplace crowds taken place?', 'Where is the bombing?'): 0.1111111111111111}, {('What is a similarity between the Boston marathon bombing and some Mideast attacks?', 'Where is the bombing?'): 0.26666666666666666}, {('What were the Boston bombs packed with?', 'Who are the bombs targeting?'): 0.2727272727272727}, {('What were the intended targets of the large truck bombs used in Oklahoma City in 1995 and the World Trade Center North Tower in 1993?', 'Who are the bombs targeting?'): 0.12}], 'backpack_ied_20-E2': [{('What kind of attacks took place at the Boston Marathon?', 'Where was the attack?'): 0.14285714285714285}, {('What were the bombs packed into?', 'Where was the attack?'): 0.2}, {('Where else have pressure cookers been used in attacks?', 'Where was the attack?'): 0.15384615384615385}, {('What were the bombs packed with in the Boston Marathon attack?', 'Where was the attack?'): 0.23076923076923078}, {('Has any group claimed responsibility for the Boston Marathon attacks?', 'Where was the attack?'): 0.14285714285714285}], 'backpack_ied_20-E3': [{('What is the hallmark of militant groups in recent years?', 'Who was not responsible for the attack?'): 0.11764705882352941}, {('', 'Who was not responsible for the attack?'): 0.0}, {('\"from Iraq to Israel and Afghanistan and Russia\"', 'Who was not responsible for the attack?'): 0.0}, {('What is the concern regarding the Boston marathon sidewalk bombing?', 'Who was not responsible for the attack?'): 0.125}, {('', 'Who was not responsible for the attack?'): 0.0}, {('\"pressure cookers and hidden in backpacks or duffel bags\"', 'Who was not responsible for the attack?'): 0.0}, {('What did the bombs in the Boston marathon attack contain?', 'Who was not responsible for the attack?'): 0.2}], 'backpack_ied_20-E4': [], 'backpack_ied_20-E5': [], 'backpack_ied_20-E6': [{('Whom did the twin bombings on Boylston Street kill?', 'How many were killed?'): 0.07142857142857142}, {('', 'How many were killed?'): 0.0}, {('', 'How many were killed?'): 0.0}, {('\"The twin bombings on Boylston Street killed three people.\"', 'Where were people killed?'): 0.14285714285714285}, {('te: The answer is the same as the previous question.)', 'How many were killed?'): 0.0}, {('Did any group take responsibility for the attack?', 'How many were killed?'): 0.07692307692307693}, {('', 'How many were killed?'): 0.0}, {('', 'How many were killed?'): 0.0}, {('\"The Pakistani Taliban also said in a statement it was not responsible for the attack.\"', 'How many were killed?'): 0.0}, {('te: It is mentioned that the Pakistani Taliban denied responsibility for the attack.)', 'How many were killed?'): 0.0}, {('What is the concern regarding the twin bombings on Boylston Street?', 'How many were killed?'): 0.06666666666666667}], 'backpack_ied_20-E7': [{('Who or what was injured?', 'How many were injured?'): 0.2222222222222222}, {('', 'How many were injured?'): 0.0}, {('\"more than 150\" (The passage does not provide an exact number).', 'How many were injured?'): 0.0}, {('Where did the injuries occur?', 'Where were they injured?'): 0.2222222222222222}], 'backpack_ied_20-E8': [], 'backpack_ied_20-E9': [{('Who made the statement?', 'Who said something?'): 0.2857142857142857}, {('', 'Who said something?'): 0.0}, {('\"We\\'ve seen this around the world, but what is so concerning about this is that it hadn\\'t happened here, not like this. Until yesterday.\"', 'What is being said?'): 0.03333333333333333}, {('What was the discussion about?', 'What is being said?'): 0.2222222222222222}, {('', 'Who said something?'): 0.0}, {('The use of pressure cookers as a method for constructing improvised explosive devices (IEDs) similar to attacks in the Middle East', 'Who said something?'): 0.0}, {('What was the intention behind the bombings?', 'What is being said?'): 0.2}], 'scenario_en_kairos_16-E1': [{('What event is Osama bin Laden charged with masterminding?', 'When was the bombing?'): 0.07142857142857142}, {('Where did the bombings of the U.S. embassies in East Africa take place?', 'When was the bombing?'): 0.125}, {('Which attack on the USS Cole is believed to have involved Osama bin Laden?', 'When was the bombing?'): 0.1111111111111111}, {('What is Osama bin Laden now a prime suspect in?', 'When was the bombing?'): 0.06666666666666667}, {('What evidence links Osama bin Laden to terrorist attacks?', 'When was the bombing?'): 0.07142857142857142}], 'scenario_en_kairos_16-E2': [{('Who is charged with masterminding the 1998 bombings of two U.S. embassies in East Africa?', 'When was the attack?'): 0.10526315789473684}, {('', 'When was the attack?'): 0.0}, {('He is believed to have had a role in the attack.', 'When was the attack?'): 0.13333333333333333}, {('What are the terrorist attacks that Osama bin Laden is a prime suspect in?', 'What was attacked?'): 0.11764705882352941}, {('', 'When was the attack?'): 0.0}, {('Times reporters Judith Miller and James Risen, and former CIA official Larry Johnson.', 'When was the attack?'): 0.0}, {(\"What challenges does US intelligence confront in trying to crack bin Laden's international organization?\", 'What was attacked?'): 0.1111111111111111}], 'scenario_en_kairos_16-E3': [{('What was the event that involved destruction?', 'What was destroyed?'): 0.3333333333333333}, {('', 'What was destroyed?'): 0.0}], 'scenario_en_kairos_16-E4': [{('What is Osama bin Laden charged with?', 'What was bombed?'): 0.2}, {('', 'What was bombed?'): 0.0}, {('Osama bin Laden is believed to have had a role in the October 2000 attack on the USS Cole in the Yemeni port of Aden.', 'What was bombed?'): 0.0}, {('What are the terrorist attacks that Osama bin Laden is now a prime suspect in?', 'What was bombed?'): 0.1111111111111111}], 'wiki_mass_car_bombings_7_news_2-E1': [], 'wiki_mass_car_bombings_7_news_2-E2': [], 'wiki_mass_car_bombings_7_news_2-E3': [{('What caused the deaths in Iraq?', ''): 0.0}, {('How many people were killed in the attacks?', ''): 0.0}, {('How many attacks were launched?', ''): 0.0}, {('How many people were wounded in the attacks?', ''): 0.0}, {('Where did the deadliest attack occur?', ''): 0.0}], 'wiki_mass_car_bombings_7_news_2-E4': [], 'wiki_mass_car_bombings_7_news_2-E5': [{('Wh* caused the deaths?', 'What caused the deaths?'): 0.5714285714285714}, {('', 'Who witnessed the deaths?'): 0.0}, {('In different cities in Iraq', 'Who witnessed the deaths?'): 0.0}, {(\"How many people were killed in Monday's attacks?\", 'Who died?'): 0.08333333333333333}], 'wiki_mass_car_bombings_7_news_2-E6': [{('What was destroyed?', 'What was destroyed?'): 1.0}, {('', 'What was destroyed?'): 0.0}, {('In the town of Taji.', 'who reported the destruction? '): 0.1}, {('How many people were killed in the attack that destroyed the houses?', 'How were the houses destroyed?'): 0.5}, {('', 'What was destroyed?'): 0.0}, {('In the lead-up to the start of Ramadan.', 'who reported the destruction? '): 0.07142857142857142}, {('Who witnessed the deaths of an elderly woman carrying a newborn baby and of the policeman?', 'who reported the destruction? '): 0.1111111111111111}], 'wiki_mass_car_bombings_7_news_2-E7': [], 'wiki_mass_car_bombings_7_news_2-E8': [{('What was the trigger for the attacks?', 'What was the cause of the explosion in Tarmiyah?'): 0.3333333333333333}, {('', 'When did the explosions happen?'): 0.0}, {('\"27 different attacks launched in 18 cities.\"', 'What was the cause of the explosion in Tarmiyah?'): 0.058823529411764705}, {('How many people were killed in the deadliest attack?', 'What was the cause of the explosion in Tarmiyah?'): 0.1875}, {('', 'When did the explosions happen?'): 0.0}, {('\"In the town of Taji.\"', 'What was the cause of the explosion in Tarmiyah?'): 0.14285714285714285}, {('How many people were wounded in the attacks?', 'What was the cause of the explosion in Tarmiyah?'): 0.2}], 'wiki_mass_car_bombings_7_news_2-E9': [], 'wiki_mass_car_bombings_7_news_2-E10': [], 'wiki_mass_car_bombings_7_news_2-E11': [], 'wiki_mass_car_bombings_7_news_2-E12': [{('Who were wounded in the attacks?', 'How were the soldiers wounded?'): 0.4444444444444444}], 'wiki_mass_car_bombings_7_news_2-E13': [{('What were the targets of the shooting attacks?', 'What were the causualties of the shootings? '): 0.5}, {('', 'Where was the shooting? '): 0.0}, {('In the Baghdad neighborhoods of Husseiniyah and Yarmouk, the town of Tarmiyah, the restive Diyala province, the town of Dhuluiyah, the main northern city of Mosul and the nearby town of Baaj, the center of the town of Diwaniyah, and the western town of Heet.', 'What were the causualties of the shootings? '): 0.06451612903225806}, {('How many people were killed in the shooting attacks?', 'Where was the shooting? '): 0.25}, {('', 'Where was the shooting? '): 0.0}, {('40 people were wounded in the shooting attacks.', 'Where was the shooting? '): 0.16666666666666666}, {('Were there any specific claims of responsibility for the shooting attacks?', 'Where was the shooting? '): 0.21428571428571427}], 'wiki_mass_car_bombings_7_news_2-E14': [], 'wiki_mass_car_bombings_7_news_2-E15': [], 'wiki_mass_car_bombings_7_news_2-E16': [], 'wiki_mass_car_bombings_7_news_2-E17': [], 'wiki_mass_car_bombings_7_news_2-E18': [], 'wiki_mass_car_bombings_0_news_9-E1': [{('What did Colombia request?', 'What was the request?'): 0.42857142857142855}, {('', 'Who requested?'): 0.0}, {('Colombia made the request.', 'What was the request?'): 0.25}, {('Who did Colombia want Cuba to hand over?', 'Who requested?'): 0.2}, {('', 'Who requested?'): 0.0}, {('The passage does not provide information on whether Cuba agreed to the request.', 'What was the request?'): 0.11764705882352941}, {('What did Colombia ask Havana to do?', 'What was the request?'): 0.18181818181818182}], 'wiki_mass_car_bombings_0_news_9-E2': [{(\"What did Cuba do in response to Colombia's request?\", 'Who is sidestepping?'): 0.07142857142857142}, {('', 'Who is sidestepping?'): 0.0}, {('Colombia asked Cuba to hand over the rebels affiliated with National Liberation Army (ELN).', 'Who is sidestepping?'): 0.0}, {('Who did Colombia blame for the car bombing?', 'Who is sidestepping?'): 0.18181818181818182}, {('', 'Who is sidestepping?'): 0.0}, {('President Ivan Duque urged Cuba to send home the ELN rebels in Havana.', 'Who is sidestepping?'): 0.0}, {(\"What did Cuba's foreign minister say about the negotiations?\", 'Who is sidestepping?'): 0.07142857142857142}], 'wiki_mass_car_bombings_0_news_9-E3': [{('What is the event trigger?', 'What was bombed?'): 0.25}, {('', 'What was bombed?'): 0.0}, {('The ELN (National Liberation Army) rebels are blamed for the bombing.', 'Where was the bombing?'): 0.11764705882352941}, {('Where did the bombing take place?', 'Where was the bombing?'): 0.5}, {('', 'What was bombed?'): 0.0}, {('The passage does not provide a specific date for the bombing.', 'Where was the bombing?'): 0.13333333333333333}, {('What did Colombia ask Cuba to do in relation to the rebels involved in the bombing?', 'Where was the bombing?'): 0.1875}], 'wiki_mass_car_bombings_0_news_9-E4': [{('Who urged Communist-ruled Cuba?', 'Who urged?'): 0.42857142857142855}, {('', 'Who urged?'): 0.0}, {('The ELN rebels.', 'Who urged?'): 0.0}, {('What did President Duque urge Cuba to do?', 'What were they urged to do?'): 0.3333333333333333}, {('', 'Who urged?'): 0.0}], 'wiki_mass_car_bombings_0_news_9-E5': [{('Who was killed in the car bombing?', 'How many killed?'): 0.2}, {('', 'How many killed?'): 0.0}, {('\"a police academy in Bogota.\"', 'How many killed?'): 0.0}, {('Who blamed the ELN for the bombing?', 'How many killed?'): 0.1}, {('', 'How many killed?'): 0.0}, {('\"to end more than five decades of fighting by the Marxist-inspired group.\"', 'How many killed?'): 0.0}, {('Who called for the ELN rebels to be sent back to their home country?', 'How many killed?'): 0.058823529411764705}], 'wiki_mass_car_bombings_0_news_9-E6': [], 'wiki_mass_car_bombings_0_news_9-E7': [{('What did Colombia ask Cuba?', 'What were they asked to do?'): 0.18181818181818182}, {('', 'Who asked?'): 0.0}, {('Colombia asked Cuba to extradite the rebels affiliated with National Liberation Army (ELN).', 'What were they asked to do?'): 0.09523809523809523}, {('When did Colombia ask Cuba to extradite the rebels?', 'What were they asked to do?'): 0.13333333333333333}, {('', 'Who asked?'): 0.0}, {('Colombia asked Cuba to extradite the rebels after a deadly car bombing in Bogota was blamed on the group.', 'Who was asked?'): 0.09523809523809523}, {(\"Did Cuba respond to Colombia's request?\", 'What were they asked to do?'): 0.15384615384615385}], 'wiki_mass_car_bombings_0_news_9-E8': [{('What did Colombia request from Cuba?', 'Who did they want to capture?'): 0.16666666666666666}, {('Who did Colombia blame for the car bombing?', 'Who did they want to capture?'): 0.23076923076923078}, {('What did President Ivan Duque urge Cuba to do?', 'Who did they want to capture?'): 0.21428571428571427}, {('What did Colombia ask Cuba to do in November?', 'Who did they want to capture?'): 0.21428571428571427}, {(\"What did Duque say about Cuba's response to the request for extradition?\", 'Who did they want to capture?'): 0.16666666666666666}], 'wiki_mass_car_bombings_0_news_9-E9': [{('What are Colombians planning to do in response to the car bombing?', 'What were they protesting against?'): 0.125}, {('', 'When was they protest?'): 0.0}, {('The purpose of the protest is to express opposition and disapproval of the car bombing incident. ', 'When was they protest?'): 0.05263157894736842}, {('When is the protest planned?', 'When was they protest?'): 0.375}, {('', 'When was they protest?'): 0.0}, {('\"Colombians, including Duque\" are planning to participate in the protest. ', 'When was they protest?'): 0.058823529411764705}, {('Why are Colombians protesting?', 'What were they protesting against?'): 0.2222222222222222}], 'wiki_drone_strikes_1_news_1-E1': [{('Who was arrested?', 'Who was arrested?'): 1.0}, {('', 'Who was arrested?'): 0.0}, {(\"Flying the drone and obstructing duties at the prime minister's office.\", 'Who was arrested?'): 0.0}, {('Where did Yasuo Yamamoto turn himself in to authorities?', 'Who was arrested?'): 0.07692307692307693}, {('', 'Who was arrested?'): 0.0}, {('Traces of radiation.', 'Who was arrested?'): 0.0}, {(\"Why did Yasuo Yamamoto admit to landing the drone on the roof of the prime minister's office?\", 'Who was arrested?'): 0.05}], 'wiki_drone_strikes_1_news_1-E2': [{('What was found?', 'What was it found with?'): 0.6666666666666666}, {('When was the drone found?', 'When was it found?'): 0.5714285714285714}, {('Where was the drone found?', 'When was it found?'): 0.375}, {('Who found the drone?', 'When was it found?'): 0.25}], 'wiki_drone_strikes_1_news_1-E4': [{('What crashed?', 'Where did it crash?'): 0.14285714285714285}, {('Where did the crash happen?', 'Where did it crash?'): 0.5714285714285714}, {('When did the crash occur?', 'Where did it crash?'): 0.375}, {('Who crashed the drone?', 'Where did it crash?'): 0.1111111111111111}, {('What was the reason for the crash?', 'Where did it crash?'): 0.2}], 'wiki_drone_strikes_1_news_1-E5': [{('What triggered fears of potential terrorist attacks?', 'Where was the disaster?'): 0.08333333333333333}, {('', 'Where was the disaster?'): 0.0}], 'wiki_drone_strikes_1_news_1-E6': [], 'wiki_drone_strikes_1_news_1-E7': [{('What did Yasuo Yamamoto do?', 'What was obstructed?'): 0.25}, {('What is Yasuo Yamamoto suspected of?', 'What was obstructed?'): 0.2222222222222222}], 'wiki_drone_strikes_1_news_1-E8': [{('What kind of attacks were triggered?', 'What type of attack was it?'): 0.2727272727272727}, {('', 'What type of attack was it?'): 0.0}, {('Fears of potential terrorist attacks using unmanned aerial devices.', 'What type of attack was it?'): 0.0625}, {(\"What is the concern raised by the infiltration at Japan's political headquarters?\", 'What type of attack was it?'): 0.1111111111111111}], 'scenario_en_kairos_2-E1': [], 'scenario_en_kairos_2-E2': [], 'scenario_en_kairos_2-E3': [{('Who committed the attack?', 'What was attacked?'): 0.125}, {('', 'What was attacked?'): 0.0}], 'scenario_en_kairos_2-E4': [], 'scenario_en_kairos_2-E5': [{('Who was involved in the conspiracy to kill U.S. nationals?', 'Who almost was killed?'): 0.23076923076923078}, {('', 'Who almost was killed?'): 0.0}, {('Outside the United States', 'Who almost was killed?'): 0.0}, {('What was the result of the attack on a federal facility?', 'Who almost was killed?'): 0.14285714285714285}, {('', 'Who almost was killed?'): 0.0}], 'scenario_en_kairos_2-E6': [], 'scenario_en_kairos_2-E7': [{('What is the event trigger?', 'What else was destroyed?'): 0.2222222222222222}, {('', 'What else was destroyed?'): 0.0}], 'scenario_en_kairos_2-E8': [], 'road_ied_12-E1': [], 'road_ied_12-E3': [], 'road_ied_12-E6': [], 'road_ied_12-E7': [], 'scenario_en_85-E2': [], 'scenario_en_85-E1': [], 'wiki_drone_strikes_2_news_8-E1': [{('What are authorities concerned about regarding drones?', 'Where are the supposed attacks taking place? '): 0.14285714285714285}, {('', 'Where are the supposed attacks taking place? '): 0.0}, {('One option being considered is capturing drones using swarms of net-casting UAVs working in tandem. Another option is developing radio frequency denial systems to create a forcefield-type wall around government sensitive areas.', 'What is being developed to counter the attacks? '): 0.075}, {('What is the purpose of the anti-drone bazooka called SkyWall 100?', 'What is being developed to counter the attacks? '): 0.2222222222222222}, {('', 'Where are the supposed attacks taking place? '): 0.0}, {('James Rogers believes that shooting down a drone may not be effective if it is rigged as an improvised explosive device. He believes finding the most effective way to counter drones is important.', 'What is being developed to counter the attacks? '): 0.1111111111111111}, {('Are commercially available UAVs being used by terrorists?', 'What is being developed to counter the attacks? '): 0.125}], 'wiki_drone_strikes_2_news_8-E2': [{('What is the event triggered by \"bring down\"?', 'What is discussed as being brought down? '): 0.2857142857142857}, {('', 'What is discussed as being brought down? '): 0.0}, {('Capturing drones using swarms of net-casting UAVs and developing radio frequency denial systems.', 'Who is discussing bringing down drones? '): 0.045454545454545456}, {('According to James Rogers, what is the debate about regarding ways to bring down small drones?', 'Who is discussing bringing down drones? '): 0.2}, {('', 'What is discussed as being brought down? '): 0.0}, {('ISIS used basic, easy-to-buy drones for reconnaissance and dropping bombs.', 'Who is discussing bringing down drones? '): 0.047619047619047616}, {('What is the concern of US security services regarding commercially available UAVs?', 'What is discussed as being brought down? '): 0.16666666666666666}], 'wiki_drone_strikes_2_news_8-E3': [{('What is the concern about shooting down a drone?', 'What are the stated possible consequences of shooting a drone down?'): 0.4666666666666667}, {('', 'What is being shot down? '): 0.0}, {('\"We talk about precision warfare with regards to American drone warfare. This is kind of the other side of it. These are precision missiles.\"', 'What are the stated possible consequences of shooting a drone down?'): 0.12903225806451613}, {('Who believes that \"non-kinetic options\" would be more effective in countering small drones?', 'What is being shot down? '): 0.045454545454545456}, {('', 'What is being shot down? '): 0.0}, {('He is an expert in drone warfare.', 'What is being shot down? '): 0.07692307692307693}, {('What is the purpose of using swarms of net-casting UAVs to capture drones?', 'What are the stated possible consequences of shooting a drone down?'): 0.17391304347826086}, {('', 'What is being shot down? '): 0.0}], 'wiki_drone_strikes_2_news_8-E4': [{('What kind of test flights will be conducted with anti-drone UAVs?', 'What is being countered? '): 0.11764705882352941}, {('', 'What is being countered? '): 0.0}, {('Police and the military.', 'Who is attempting to find a counter to the drones? '): 0.07142857142857142}, {('What are defense chiefs considering as a way to capture drones?', 'Who is attempting to find a counter to the drones? '): 0.2222222222222222}, {('', 'What is being countered? '): 0.0}, {('Developing radio frequency denial systems.', 'What is being countered? '): 0.0}, {(\"How does OpenWorks' SkyWall 100 anti-drone bazooka capture drones?\", 'Who is attempting to find a counter to the drones? '): 0.09523809523809523}], 'wiki_drone_strikes_2_news_8-E5': [{('What can drones carry?', 'Where can the criminals carry the items?'): 0.3333333333333333}, {('How have criminals used drones?', 'What are the criminals carrying? '): 0.2}], 'wiki_drone_strikes_2_news_8-E6': [{('What event or action is the passage referring to?', 'What was the closest distance between the two objects? '): 0.1875}, {('', 'What two objects almost collided? '): 0.0}, {('An RAF Chinook helicopter and a drone.', 'What two objects almost collided? '): 0.0}, {('When did the collision occur?', 'When did the near-collison occur? '): 0.5555555555555556}], 'wiki_drone_strikes_2_news_8-E7': []}\n"
          ]
        }
      ]
    },
    {
      "cell_type": "code",
      "source": [
        "print(f\"GPT QAQA:{num_match}\")"
      ],
      "metadata": {
        "colab": {
          "base_uri": "https://localhost:8080/"
        },
        "id": "gS4pFwN39-1J",
        "outputId": "635324df-6258-4800-ba57-ab053d08b9ec"
      },
      "execution_count": 80,
      "outputs": [
        {
          "output_type": "stream",
          "name": "stdout",
          "text": [
            "GPT QAQA:455\n"
          ]
        }
      ]
    },
    {
      "cell_type": "code",
      "source": [
        "print(f\"Rule_Gold QG:{num_match}\")"
      ],
      "metadata": {
        "colab": {
          "base_uri": "https://localhost:8080/"
        },
        "id": "IpRaPG55-DrY",
        "outputId": "84135782-051f-4e98-9cfd-0328445a11f7"
      },
      "execution_count": 83,
      "outputs": [
        {
          "output_type": "stream",
          "name": "stdout",
          "text": [
            "Rule_Gold QG:218\n"
          ]
        }
      ]
    },
    {
      "cell_type": "code",
      "source": [
        "print(f\"Rule_Pred QG:{num_match}\")"
      ],
      "metadata": {
        "colab": {
          "base_uri": "https://localhost:8080/"
        },
        "id": "1ayhnegKy4fa",
        "outputId": "6d17ed31-4608-4e91-a0ba-6c50063a9656"
      },
      "execution_count": 88,
      "outputs": [
        {
          "output_type": "stream",
          "name": "stdout",
          "text": [
            "Rule_Pred QG:185\n"
          ]
        }
      ]
    },
    {
      "cell_type": "code",
      "source": [
        "print(f\"GPT AQAQ:{num_match}\")"
      ],
      "metadata": {
        "colab": {
          "base_uri": "https://localhost:8080/"
        },
        "id": "EQulqtBzzAVw",
        "outputId": "c28e537d-57ff-4c24-9ba0-92fc816d24d2"
      },
      "execution_count": 77,
      "outputs": [
        {
          "output_type": "stream",
          "name": "stdout",
          "text": [
            "GPT AQAQ:482\n"
          ]
        }
      ]
    },
    {
      "cell_type": "code",
      "source": [
        "print(len(context_quest)) #These many pairs were considered"
      ],
      "metadata": {
        "colab": {
          "base_uri": "https://localhost:8080/"
        },
        "id": "BmS7poih0LXR",
        "outputId": "7d4e7e3e-ec13-4b9c-d5db-0216d4143078"
      },
      "execution_count": 184,
      "outputs": [
        {
          "output_type": "stream",
          "name": "stdout",
          "text": [
            "198\n"
          ]
        }
      ]
    },
    {
      "cell_type": "code",
      "source": [
        "#SENTENCE WISE CONTEXT\n",
        "with open('/content/GPT4_QA.json', 'r') as f:\n",
        "        gen_data = json.load(f)\n",
        "with open('/content/test2.json', 'r') as f:\n",
        "        gold_data = json.load(f)"
      ],
      "metadata": {
        "id": "RgbZ7Ddm53p1"
      },
      "execution_count": 329,
      "outputs": []
    },
    {
      "cell_type": "code",
      "source": [
        "num_match=0\n",
        "num_ques=0\n",
        "num_gold=0\n",
        "context_quest = []\n",
        "score_dict={}\n",
        "for key,value in gen_data.items():\n",
        "  for k,v in gold_data.items():\n",
        "    if(key==k):\n",
        "      doc=v[\"text\"]\n",
        "      for event in value[\"events\"]:\n",
        "        for key_eve, val_eve in event.items():\n",
        "          for item in v[\"events\"]:\n",
        "            if (key_eve==item[\"event_id\"]):\n",
        "              qa_pairs_gold = item[\"manual\"]\n",
        "              score_dict[item[\"event_id\"]]=[]\n",
        "              trigger = item[\"trigger\"]\n",
        "              sentences = doc.split('. ')\n",
        "              context = None\n",
        "              for i, sentence in enumerate(sentences):\n",
        "                if trigger in sentence:\n",
        "                  context = sentence\n",
        "                  break\n",
        "              for qa_pair_gen in val_eve:\n",
        "                iou_sc = []\n",
        "                temp_dict={}\n",
        "                # gold_qa=0\n",
        "                try:\n",
        "                  if(qa_pair_gen[\"answer\"] in context):\n",
        "                    for qa_pair in qa_pairs_gold:\n",
        "                      if(qa_pair[\"answer\"] in context):\n",
        "                        num_gold+=1\n",
        "                        val = calculate_iou(qa_pair_gen[\"question\"],qa_pair[\"question\"])\n",
        "                        iou_sc.append(val)\n",
        "                    # print(iou_sc)\n",
        "                    if(iou_sc!=[]):\n",
        "                      # num_gold+=len(iou_sc)\n",
        "                      max_iou_idx = iou_sc.index(max(iou_sc))\n",
        "                      temp_dict[(qa_pair_gen[\"question\"],qa_pairs_gold[max_iou_idx][\"question\"])]=max(iou_sc)\n",
        "                      score_dict[item[\"event_id\"]].append(temp_dict)\n",
        "                except Exception as e:\n",
        "                  continue\n",
        "for key,value in score_dict.items():\n",
        "  for item in value:\n",
        "    for k,v in item.items():\n",
        "      if v>0:\n",
        "        num_match+=1"
      ],
      "metadata": {
        "id": "dFH9n-OkbwE9"
      },
      "execution_count": 337,
      "outputs": []
    },
    {
      "cell_type": "code",
      "source": [
        "print(num_match)\n",
        "# print(num_gold)"
      ],
      "metadata": {
        "colab": {
          "base_uri": "https://localhost:8080/"
        },
        "id": "0YedPLUIti_4",
        "outputId": "37889d17-e1b4-4948-a0f2-7298660b08d4"
      },
      "execution_count": 338,
      "outputs": [
        {
          "output_type": "stream",
          "name": "stdout",
          "text": [
            "117\n"
          ]
        }
      ]
    },
    {
      "cell_type": "code",
      "source": [
        "print(score_dict)"
      ],
      "metadata": {
        "colab": {
          "base_uri": "https://localhost:8080/"
        },
        "id": "Axw5QqzJtlnI",
        "outputId": "c0acea9f-ffa1-4361-e248-6c70292f2818"
      },
      "execution_count": 332,
      "outputs": [
        {
          "output_type": "stream",
          "name": "stdout",
          "text": [
            "{'scenario_en_kairos_68-E1': [], 'wiki_drone_strikes_0_news_1-E1': [], 'wiki_drone_strikes_0_news_1-E2': [], 'wiki_drone_strikes_0_news_1-E3': [], 'wiki_drone_strikes_0_news_1-E4': [], 'wiki_drone_strikes_0_news_1-E5': [], 'wiki_drone_strikes_0_news_1-E6': [], 'wiki_drone_strikes_0_news_1-E7': [], 'wiki_drone_strikes_0_news_1-E8': [], 'wiki_drone_strikes_0_news_1-E9': [], 'wiki_drone_strikes_0_news_1-E10': [], 'wiki_drone_strikes_0_news_1-E11': [], 'wiki_drone_strikes_0_news_1-E12': [{('What is happening to Afghanistan?', 'Which country came under US bombardment'): 0.25}, {('How many weapons were dropped in Afghanistan in 2016?', 'Which country came under US bombardment'): 0.08333333333333333}], 'wiki_drone_strikes_0_news_1-E13': [], 'wiki_drone_strikes_0_news_1-E14': [], 'wiki_drone_strikes_0_news_1-E15': [], 'wiki_drone_strikes_0_news_1-E16': [], 'wiki_drone_strikes_0_news_1-E17': [], 'wiki_drone_strikes_0_news_1-E18': [], 'wiki_ied_bombings_10-E1': [], 'wiki_ied_bombings_10-E2': [], 'wiki_ied_bombings_10-E3': [{('What kind of attacks were carried out?', 'What kind of attacks were carried out?'): 1.0}, {('Who carried out the attacks?', 'Where were the attacks carried out?'): 0.625}], 'wiki_ied_bombings_10-E4': [], 'wiki_ied_bombings_10-E5': [], 'wiki_ied_bombings_10-E6': [], 'wiki_ied_bombings_10-E7': [], 'wiki_ied_bombings_10-E8': [], 'wiki_ied_bombings_10-E9': [{('How many people died?', 'How many people died?'): 1.0}], 'wiki_ied_bombings_10-E10': [], 'wiki_ied_bombings_10-E11': [{('What was damaged?', 'How much damage was caused?'): 0.25}, {('How much damage was caused?', 'How much damage was caused?'): 1.0}, {('Who caused the damage?', 'How much damage was caused?'): 0.375}], 'wiki_ied_bombings_10-E12': [{('Who lost their legs?', 'Who lost their legs?'): 1.0}], 'wiki_ied_bombings_10-E13': [{('Who was the target of the previous assassination attempt?', ' Who was the target of the previous assassination? '): 0.8}, {('Where was the bomb planted?', 'When was the assassination attempt?'): 0.3333333333333333}], 'wiki_ied_bombings_10-E14': [{('Who threw the bomb?', 'What did the attackers throw?'): 0.2222222222222222}, {('What did the attackers throw?', 'What did the attackers throw?'): 1.0}], 'wiki_ied_bombings_10-E15': [], 'wiki_ied_bombings_10-E16': [{('Who lost limbs?', 'What did the three soldiers lose?'): 0.1}], 'wiki_ied_bombings_10-E17': [{('Who planted the bomb?', 'Who planted the bomb?'): 1.0}, {('What was planted?', 'What was planted?'): 1.0}, {('Where was the bomb planted?', 'Where was the bomb planted?'): 1.0}], 'wiki_ied_bombings_10-E18': [{('Who is monitoring the ceasefire?', 'What is being monitored?'): 0.2222222222222222}, {('What is being monitored?', 'What is being monitored?'): 1.0}, {('Where were the \"incident centres\" established?', 'What is being monitored?'): 0.08333333333333333}], 'wiki_ied_bombings_10-E19': [], 'wiki_ied_bombings_10-E20': [{('Who was in charge of the investigation?', ' Who was in charge of the investigation?'): 0.8888888888888888}, {('What was the police officer in charge of?', 'What was the police officer in charge of?'): 1.0}, {('What did the police officer say about the bombing?', 'What was the police officer in charge of?'): 0.38461538461538464}], 'wiki_ied_bombings_10-E21': [{('Who is serving the sentences?', ' Who is serving the sentences?'): 0.8571428571428571}, {('What kind of sentences are they serving?', 'Why were they serving their sentences?'): 0.36363636363636365}, {('When were the sentences given?', ' Who is serving the sentences?'): 0.3}], 'wiki_ied_bombings_10-E22': [{('When were they caught?', 'Who was caught?'): 1.0}], 'wiki_ied_bombings_10-E23': [{('Who agreed to a truce and ceasefire?', 'Who agreed to a truce?'): 0.75}], 'backpack_ied_20-E1': [{('What is the event trigger?', 'Where is the bombing?'): 0.375}, {('Where did the bombing take place?', 'Where is the bombing?'): 0.5}, {('What were the bombs packed into?', 'Who are the bombs targeting?'): 0.3}], 'backpack_ied_20-E2': [{('What has been used for bombs in multiple attacks in Afghanistan, Pakistan, India, and Nepal?', 'Where was the attack?'): 0.05}], 'backpack_ied_20-E3': [{('What type of attack was it?', 'Who was not responsible for the attack?'): 0.25}], 'backpack_ied_20-E4': [], 'backpack_ied_20-E5': [], 'backpack_ied_20-E6': [{('Who was killed?', 'How many were killed?'): 0.2857142857142857}, {('How many people were injured?', 'How many were killed?'): 0.5714285714285714}, {('What caused the deaths and injuries?', 'How many were killed?'): 0.09090909090909091}, {('Where did the bombings occur?', 'Where were people killed?'): 0.2222222222222222}], 'backpack_ied_20-E7': [{('What caused the injuries?', 'How many were injured?'): 0.1111111111111111}, {('When did the bombings occur?', 'How many were injured?'): 0.1}, {('Where did the bombings occur?', 'Where were they injured?'): 0.2222222222222222}], 'backpack_ied_20-E8': [], 'backpack_ied_20-E9': [{('Who said something?', 'Who said something?'): 1.0}, {('What did the Pakistani Taliban say?', 'What is being said?'): 0.2}], 'scenario_en_kairos_16-E1': [{('Who is charged with masterminding the bombings?', 'When was the bombing?'): 0.18181818181818182}], 'scenario_en_kairos_16-E2': [{('What was attacked in October 2000?', 'What was attacked?'): 0.5714285714285714}], 'scenario_en_kairos_16-E3': [{('What was destroyed on Sept. 11, 2001?', 'What was destroyed?'): 0.4444444444444444}, {('What was bombed in the Pentagon?', 'What was destroyed?'): 0.375}], 'scenario_en_kairos_16-E4': [], 'wiki_mass_car_bombings_7_news_2-E1': [], 'wiki_mass_car_bombings_7_news_2-E2': [], 'wiki_mass_car_bombings_7_news_2-E3': [{('How many people were wounded in the attacks?', ''): 0.0}, {('How many attacks were launched?', ''): 0.0}, {('Where were the attacks launched?', ''): 0.0}, {('Who was targeted in the suicide attack?', ''): 0.0}, {('How many people were killed in the Taji attack?', ''): 0.0}, {('How many people were wounded in the Taji attack?', ''): 0.0}, {('What type of bombs were used in the Taji attack?', ''): 0.0}, {('Who concluded that the vehicle was a car bomb?', ''): 0.0}], 'wiki_mass_car_bombings_7_news_2-E4': [], 'wiki_mass_car_bombings_7_news_2-E5': [{('Who witnessed the deaths?', 'Who witnessed the deaths?'): 1.0}, {('Where did the deaths occur?', 'Who witnessed the deaths?'): 0.375}], 'wiki_mass_car_bombings_7_news_2-E6': [{('What was destroyed?', 'What was destroyed?'): 1.0}, {('Who witnessed the destruction?', 'How were the houses destroyed?'): 0.42857142857142855}, {('How many people were killed in the attack?', 'How were the houses destroyed?'): 0.16666666666666666}], 'wiki_mass_car_bombings_7_news_2-E7': [], 'wiki_mass_car_bombings_7_news_2-E8': [{('When did the attack happen?', 'When did the explosions happen?'): 0.7142857142857143}, {('Where did the attack happen?', 'Where did the explosions happen? '): 0.7142857142857143}, {('How many people were killed in the Baghdad attacks?', 'What was the cause of the explosion in Tarmiyah?'): 0.1875}, {('How many people were wounded in the Baghdad attacks?', 'What was the cause of the explosion in Tarmiyah?'): 0.1875}, {('What was the cause of the explosion in Tarmiyah?', 'What was the cause of the explosion in Tarmiyah?'): 1.0}, {('How many people were hurt in the Tarmiyah explosion?', 'What was the cause of the explosion in Tarmiyah?'): 0.35714285714285715}, {('How many people were killed in Diyala province?', 'What was the cause of the explosion in Tarmiyah?'): 0.125}], 'wiki_mass_car_bombings_7_news_2-E9': [], 'wiki_mass_car_bombings_7_news_2-E10': [], 'wiki_mass_car_bombings_7_news_2-E11': [], 'wiki_mass_car_bombings_7_news_2-E12': [{('Where did the attack happen?', 'Who was wounded?'): 0.7142857142857143}, {('How many people were wounded in Diyala province?', 'Who was wounded?'): 0.07142857142857142}], 'wiki_mass_car_bombings_7_news_2-E13': [{('Where is the main hospital located?', 'Where was the shooting? '): 0.3}, {('Who attacked the military base near Dhuluiyah?', 'Where was the shooting? '): 0.16666666666666666}, {('How many Iraqi soldiers were killed in the attack?', 'Where was the other shooting? '): 0.21428571428571427}, {('What was the target of the car bomb in Diyala province?', 'Where was the other shooting? '): 0.2857142857142857}, {(\"How many people were killed in the bomb blasts in Kirkuk city and the eponymous province's towns of Dibis and Tuz Khurmatu?\", 'Where was the other shooting? '): 0.16666666666666666}], 'wiki_mass_car_bombings_7_news_2-E14': [], 'wiki_mass_car_bombings_7_news_2-E15': [], 'wiki_mass_car_bombings_7_news_2-E16': [], 'wiki_mass_car_bombings_7_news_2-E17': [], 'wiki_mass_car_bombings_7_news_2-E18': [], 'wiki_mass_car_bombings_0_news_9-E1': [{('Who made the request?', 'What was the request?'): 0.42857142857142855}, {('Who sidestepped the request?', 'What was the request?'): 0.42857142857142855}, {('Why did Colombia make the request?', 'What was the request?'): 0.3333333333333333}], 'wiki_mass_car_bombings_0_news_9-E2': [{(\"Who sidesteps Colombia's request?\", 'Who is sidestepping?'): 0.25}, {('Who is blamed for the car bombing?', 'Who is sidestepping?'): 0.3333333333333333}, {('When did the car bombing happen?', 'Who is sidestepping?'): 0.1}, {('Where did the car bombing happen?', 'Who is sidestepping?'): 0.1}], 'wiki_mass_car_bombings_0_news_9-E3': [{('Who was blamed for the bombing?', 'Where was the bombing?'): 0.5}, {('What was bombed?', 'What was bombed?'): 1.0}, {('Where did the bombing occur?', 'Where was the bombing?'): 0.5714285714285714}, {('How many people were killed in the bombing?', 'Where was the bombing?'): 0.2727272727272727}], 'wiki_mass_car_bombings_0_news_9-E4': [{('Who urged Cuba to hand over the rebels?', 'Who urged?'): 0.3333333333333333}, {('Who was asked to be handed over?', 'Who was urged?'): 0.3333333333333333}, {('Where were the rebels when they were asked to be handed over?', 'What were they urged to do?'): 0.26666666666666666}, {('Why were the rebels asked to be handed over?', 'What were they urged to do?'): 0.21428571428571427}], 'wiki_mass_car_bombings_0_news_9-E5': [{('Who was killed?', 'How many killed?'): 0.3333333333333333}, {('What caused the deaths?', 'How many killed?'): 0.125}, {('When did the bombing occur?', 'How many killed?'): 0.1111111111111111}, {('Who was blamed for the bombing?', 'How many killed?'): 0.1}, {('Where did the bombing occur?', 'Where were they killed?'): 0.2222222222222222}], 'wiki_mass_car_bombings_0_news_9-E6': [], 'wiki_mass_car_bombings_0_news_9-E7': [{('Who asked Cuba to capture ELN rebel commander Nicolas Rodriguez?', 'Who asked?'): 0.2727272727272727}], 'wiki_mass_car_bombings_0_news_9-E8': [{('Who was Colombia asking Cuba to capture?', 'Who did they want to capture?'): 0.36363636363636365}, {('When did Colombia ask Cuba to capture Nicolas Rodriguez?', 'Who did they want to capture?'): 0.3076923076923077}, {('What did Colombia ask Cuba to provide information about?', 'Who did they want to capture?'): 0.21428571428571427}], 'wiki_mass_car_bombings_0_news_9-E9': [{('Who is protesting?', 'What were they protesting against?'): 0.25}, {('What are they protesting against?', 'What were they protesting against?'): 0.7142857142857143}, {('Where did the car bombing happen?', 'When was they protest?'): 0.09090909090909091}], 'wiki_drone_strikes_1_news_1-E1': [{('Who was arrested?', 'Who was arrested?'): 1.0}, {('Why did Yamamoto fly the drone?', 'Who was arrested?'): 0.1}, {('When did the incident take place?', 'Who was arrested?'): 0.1}], 'wiki_drone_strikes_1_news_1-E2': [{('What was found?', 'When was it found?'): 0.6666666666666666}, {('When was the drone found?', 'When was it found?'): 0.3333333333333333}, {('Where was the drone found?', 'When was it found?'): 0.3333333333333333}], 'wiki_drone_strikes_1_news_1-E4': [{('Who crashed the drone?', 'Where did it crash?'): 0.1111111111111111}, {('What crashed?', 'Where did it crash?'): 0.14285714285714285}, {('Where did the drone crash?', 'Where did it crash?'): 0.5714285714285714}, {('When did the drone crash?', 'Where did it crash?'): 0.375}, {('Where was the drone flown from?', 'Where did it crash?'): 0.2}], 'wiki_drone_strikes_1_news_1-E5': [{('What was the disaster?', 'Where was the disaster?'): 0.6666666666666666}, {('When did the disaster occur?', 'Where was the disaster?'): 0.375}, {('Where did the disaster occur?', 'Where was the disaster?'): 0.5714285714285714}, {('Why did the suspect fly the drone?', 'Where was the disaster?'): 0.2}], 'wiki_drone_strikes_1_news_1-E6': [], 'wiki_drone_strikes_1_news_1-E7': [{('Who was obstructing duties?', 'What was obstructed?'): 0.2857142857142857}, {('What duties were being obstructed?', 'What was obstructed?'): 0.42857142857142855}, {('Why was Yamamoto arrested?', 'What was obstructed?'): 0.2857142857142857}], 'wiki_drone_strikes_1_news_1-E8': [{('Who admitted to landing the drone?', 'What type of attack was it?'): 0.07692307692307693}, {(\"What was landed on the roof of the prime minister's office?\", 'What type of attack was it?'): 0.26666666666666666}, {('When did the incident occur?', 'What type of attack was it?'): 0.08333333333333333}, {('Where did Yasuo Yamamoto turn himself in?', 'What type of attack was it?'): 0.07142857142857142}, {('Why were fears triggered?', 'What type of attack was it?'): 0.09090909090909091}], 'scenario_en_kairos_2-E1': [], 'scenario_en_kairos_2-E2': [], 'scenario_en_kairos_2-E3': [{('What was the attack on?', 'What was attacked?'): 0.42857142857142855}, {('What was the result of the attack?', 'What was attacked?'): 0.375}], 'scenario_en_kairos_2-E4': [], 'scenario_en_kairos_2-E5': [], 'scenario_en_kairos_2-E6': [], 'scenario_en_kairos_2-E7': [], 'scenario_en_kairos_2-E8': [], 'road_ied_12-E1': [], 'road_ied_12-E3': [], 'road_ied_12-E6': [], 'road_ied_12-E7': [], 'scenario_en_85-E2': [], 'scenario_en_85-E1': [], 'wiki_drone_strikes_2_news_8-E1': [], 'wiki_drone_strikes_2_news_8-E2': [], 'wiki_drone_strikes_2_news_8-E3': [], 'wiki_drone_strikes_2_news_8-E4': [], 'wiki_drone_strikes_2_news_8-E5': [], 'wiki_drone_strikes_2_news_8-E6': [], 'wiki_drone_strikes_2_news_8-E7': []}\n"
          ]
        }
      ]
    },
    {
      "cell_type": "code",
      "source": [
        "#NUM Q context based\n",
        "num_q=0\n",
        "for k,v in gold_data.items():\n",
        "  doc=v[\"text\"]\n",
        "  for item in v[\"events\"]:\n",
        "    qa_pairs_gold = item[\"manual\"]\n",
        "    trigger = item[\"trigger\"]\n",
        "    sentences = doc.split('. ')\n",
        "    context = None\n",
        "    for i, sentence in enumerate(sentences):\n",
        "      if trigger in sentence:\n",
        "        context = sentence\n",
        "      break\n",
        "    try:\n",
        "      for qa_pair in qa_pairs_gold:\n",
        "        if(qa_pair[\"answer\"] in context):\n",
        "            num_q+=1\n",
        "    except Exception as e:\n",
        "      continue"
      ],
      "metadata": {
        "id": "h65ZfV4UPi9q"
      },
      "execution_count": 282,
      "outputs": []
    },
    {
      "cell_type": "code",
      "source": [
        "print(num_q)"
      ],
      "metadata": {
        "colab": {
          "base_uri": "https://localhost:8080/"
        },
        "id": "pY9nBLvCRNKB",
        "outputId": "d720b6c6-f40b-4dd0-ba79-c8aa6f2d040a"
      },
      "execution_count": 283,
      "outputs": [
        {
          "output_type": "stream",
          "name": "stdout",
          "text": [
            "39\n"
          ]
        }
      ]
    },
    {
      "cell_type": "markdown",
      "source": [
        "\n",
        "# **ANSWER_EVALUATION**"
      ],
      "metadata": {
        "id": "MmvjpKQkhRqM"
      }
    },
    {
      "cell_type": "code",
      "source": [
        "def clean_mention(text):\n",
        "    \"\"\"\n",
        "    Clean up a mention by removing ‘a’, ‘an’, ‘the’ prefixes.\n",
        "    \"\"\"\n",
        "    prefixes = ['the', 'The', 'an', 'An', 'a ', 'A ']\n",
        "    for prefix in prefixes:\n",
        "        if text.startswith(prefix):\n",
        "            return text[len(prefix):]\n",
        "    return text"
      ],
      "metadata": {
        "id": "63i6ZWnghZzm"
      },
      "execution_count": 368,
      "outputs": []
    },
    {
      "cell_type": "code",
      "source": [
        "import sys\n",
        "import json\n",
        "import re\n",
        "import string\n",
        "from collections import Counter\n"
      ],
      "metadata": {
        "id": "tldFfkgunDlp"
      },
      "execution_count": 379,
      "outputs": []
    },
    {
      "cell_type": "code",
      "source": [
        "def normalize_answer(s):\n",
        "\n",
        "    def remove_articles(text):\n",
        "        return re.sub(r'\\b(a|an|the)\\b', ' ', text)\n",
        "\n",
        "    def white_space_fix(text):\n",
        "        return ' '.join(text.split())\n",
        "\n",
        "    def remove_punc(text):\n",
        "        exclude = set(string.punctuation)\n",
        "        return ''.join(ch for ch in text if ch not in exclude)\n",
        "\n",
        "    def lower(text):\n",
        "        return text.lower()\n",
        "\n",
        "    return white_space_fix(remove_articles(remove_punc(lower(s))))"
      ],
      "metadata": {
        "id": "h6bswqZTnDeV"
      },
      "execution_count": 380,
      "outputs": []
    },
    {
      "cell_type": "code",
      "source": [
        "def f1_score(prediction, ground_truth):\n",
        "    normalized_prediction = normalize_answer(prediction)\n",
        "    normalized_ground_truth = normalize_answer(ground_truth)\n",
        "\n",
        "    ZERO_METRIC = (0, 0, 0)\n",
        "\n",
        "    # if normalized_prediction != normalized_ground_truth:\n",
        "    #     print(\"Return from HERE!!!!\")\n",
        "    #     return ZERO_METRIC\n",
        "\n",
        "    prediction_tokens = normalized_prediction.split()\n",
        "    ground_truth_tokens = normalized_ground_truth.split()\n",
        "    common = Counter(prediction_tokens) & Counter(ground_truth_tokens)\n",
        "    num_same = sum(common.values())\n",
        "    if num_same == 0:\n",
        "        # print(\"Return from HERE!!!!!!!!!!!!!!!!\")\n",
        "        return ZERO_METRIC\n",
        "    precision = 1.0 * num_same / len(prediction_tokens)\n",
        "    recall = 1.0 * num_same / len(ground_truth_tokens)\n",
        "    f1 = (2 * precision * recall) / (precision + recall)\n",
        "    return f1, precision, recall"
      ],
      "metadata": {
        "id": "fv4ODMX5nDn1"
      },
      "execution_count": 410,
      "outputs": []
    },
    {
      "cell_type": "code",
      "source": [
        "def update_answer(metrics, prediction, gold):\n",
        "    f1, prec, recall = f1_score(prediction, gold)\n",
        "    metrics['f1'] += f1\n",
        "    metrics['prec'] += prec\n",
        "    metrics['recall'] += recall"
      ],
      "metadata": {
        "id": "LSLBtc8MnDqP"
      },
      "execution_count": 411,
      "outputs": []
    },
    {
      "cell_type": "code",
      "source": [
        "metrics = {'f1': 0, 'prec': 0, 'recall': 0}\n"
      ],
      "metadata": {
        "id": "O38mXpH4rCRN"
      },
      "execution_count": 417,
      "outputs": []
    },
    {
      "cell_type": "code",
      "source": [
        "import json\n",
        "import spacy\n",
        "i=0  #to average out the result\n",
        "nlp = spacy.load(\"en_core_web_sm\")\n",
        "with open('/content/ans_id_test.json', 'r') as f:\n",
        "        data = json.load(f)\n",
        "for key,value in data.items():\n",
        "  for event in value[\"events\"]:\n",
        "    qa_triplets=event[\"manual\"]\n",
        "    for qa_triplet in qa_triplets:\n",
        "      pred_ans = qa_triplet[\"answer\"]\n",
        "      gold_ans = qa_triplet[\"gold_ans\"]\n",
        "      i+=1\n",
        "      update_answer(metrics,pred_ans,gold_ans)\n",
        "print(i)\n",
        "print(f\"F1: {metrics['f1']/i}\\n\")\n",
        "print(f\"Precision: {metrics['prec']/i}\\n\")\n",
        "print(f\"Recall: {metrics['recall']/i}\\n\")"
      ],
      "metadata": {
        "colab": {
          "base_uri": "https://localhost:8080/"
        },
        "id": "4gTeUuwNrFjA",
        "outputId": "e75c3a4a-5a26-494b-d37e-b3c29961ebac"
      },
      "execution_count": 418,
      "outputs": [
        {
          "output_type": "stream",
          "name": "stdout",
          "text": [
            "132\n",
            "F1: 0.49587242872330917\n",
            "\n",
            "Precision: 0.47113887313795805\n",
            "\n",
            "Recall: 0.6271329365079364\n",
            "\n"
          ]
        }
      ]
    },
    {
      "cell_type": "code",
      "source": [
        "import json\n",
        "import spacy\n",
        "\n",
        "nlp = spacy.load(\"en_core_web_sm\")\n",
        "with open('/content/ans_id_test_nodemo.json', 'r') as f:\n",
        "        data = json.load(f)\n",
        "num_match=0\n",
        "num_ques=0\n",
        "for key,value in data.items():\n",
        "  for event in value[\"events\"]:\n",
        "    qa_triplets=event[\"manual\"]\n",
        "    num_ques+=len(qa_triplets)\n",
        "    for qa_triplet in qa_triplets:\n",
        "      pred_ans = qa_triplet[\"answer\"]\n",
        "      gold_ans = qa_triplet[\"gold_ans\"]\n",
        "      #cleanup\n",
        "      pred_ans = clean_mention(pred_ans)\n",
        "      gold_ans = clean_mention(gold_ans)\n",
        "      tokens1 = set(token.text for token in nlp(pred_ans))\n",
        "      tokens2 = set(token.text for token in nlp(gold_ans))\n",
        "      match_found = False\n",
        "      for token1 in tokens1:\n",
        "        for token2 in tokens2:\n",
        "            if token1 == token2:\n",
        "                match_found = True\n",
        "                break\n",
        "        if match_found:\n",
        "          break\n",
        "      if match_found:\n",
        "        num_match += 1\n",
        "\n",
        "print(f\"OVERLAP:{num_match}\")\n",
        "print(num_ques)"
      ],
      "metadata": {
        "colab": {
          "base_uri": "https://localhost:8080/"
        },
        "id": "yTQ9WQKIRgr4",
        "outputId": "10e2d0e6-7ab0-41c2-be38-12a6f4857e59"
      },
      "execution_count": 386,
      "outputs": [
        {
          "output_type": "stream",
          "name": "stdout",
          "text": [
            "OVERLAP:108\n",
            "132\n"
          ]
        }
      ]
    },
    {
      "cell_type": "code",
      "source": [
        "import json\n",
        "import spacy\n",
        "\n",
        "nlp = spacy.load(\"en_core_web_sm\")\n",
        "with open('/content/ans_id_test_nodemo.json', 'r') as f:\n",
        "        data = json.load(f)\n",
        "num_match=0\n",
        "num_ques=0\n",
        "match_found=False\n",
        "for key,value in data.items():\n",
        "  for event in value[\"events\"]:\n",
        "    qa_triplets=event[\"manual\"]\n",
        "    num_ques+=len(qa_triplets)\n",
        "    for qa_triplet in qa_triplets:\n",
        "      pred_ans = qa_triplet[\"answer\"]\n",
        "      gold_ans = qa_triplet[\"gold_ans\"]\n",
        "      #cleanup\n",
        "      pred_ans = clean_mention(pred_ans)\n",
        "      gold_ans = clean_mention(gold_ans)\n",
        "      tokens1=nlp(pred_ans)\n",
        "      tokens2=nlp(gold_ans)\n",
        "      for np1,np2 in zip(tokens1.noun_chunks,tokens2.noun_chunks):\n",
        "        if(str(np1.root)==str(np2.root)):\n",
        "          num_match+=1\n",
        "print(f\"NOUN HEAD:{num_match}\")\n",
        "print(num_ques)"
      ],
      "metadata": {
        "colab": {
          "base_uri": "https://localhost:8080/"
        },
        "id": "bwaV7ViKWpaG",
        "outputId": "09cbd6d3-2fdf-4045-d86f-5c336b9cf487"
      },
      "execution_count": 374,
      "outputs": [
        {
          "output_type": "stream",
          "name": "stdout",
          "text": [
            "NOUN HEAD:99\n",
            "132\n"
          ]
        }
      ]
    },
    {
      "cell_type": "code",
      "source": [
        "import json\n",
        "import spacy\n",
        "\n",
        "nlp = spacy.load(\"en_core_web_sm\")\n",
        "with open('/content/ans_id_test_nodemo.json', 'r') as f:\n",
        "        data = json.load(f)\n",
        "num_match=0\n",
        "num_ques=0\n",
        "match_found=False\n",
        "for key,value in data.items():\n",
        "  for event in value[\"events\"]:\n",
        "    qa_triplets=event[\"manual\"]\n",
        "    num_ques+=len(qa_triplets)\n",
        "    for qa_triplet in qa_triplets:\n",
        "      pred_ans = qa_triplet[\"answer\"]\n",
        "      gold_ans = qa_triplet[\"gold_ans\"]\n",
        "      #cleanup\n",
        "      pred_ans = clean_mention(pred_ans)\n",
        "      gold_ans = clean_mention(gold_ans)\n",
        "      doc1 = nlp(pred_ans)\n",
        "      doc2 = nlp(gold_ans)\n",
        "      normalized_tokens1 = [token.text.lower() for token in doc1 if not token.is_punct and not token.is_space]\n",
        "      normalized_tokens2 = [token.text.lower() for token in doc2 if not token.is_punct and not token.is_space]\n",
        "      if (set(normalized_tokens1) == set(normalized_tokens2)):\n",
        "        num_match+=1\n",
        "print(f\"EM:{num_match}\")\n",
        "print(num_ques)"
      ],
      "metadata": {
        "colab": {
          "base_uri": "https://localhost:8080/"
        },
        "id": "d0X4OI5faZ7h",
        "outputId": "e8534727-b69b-4339-edd4-6a6561605ac6"
      },
      "execution_count": 375,
      "outputs": [
        {
          "output_type": "stream",
          "name": "stdout",
          "text": [
            "EM:32\n",
            "132\n"
          ]
        }
      ]
    },
    {
      "cell_type": "code",
      "source": [
        "import json\n",
        "import spacy\n",
        "\n",
        "nlp = spacy.load(\"en_core_web_sm\")\n",
        "with open('/content/ans_id_test_nodemo.json', 'r') as f:\n",
        "        data = json.load(f)\n",
        "num_match=0\n",
        "num_ques=0\n",
        "match_found=False\n",
        "for key,value in data.items():\n",
        "  for event in value[\"events\"]:\n",
        "    qa_triplets=event[\"manual\"]\n",
        "    num_ques+=len(qa_triplets)\n",
        "    for qa_triplet in qa_triplets:\n",
        "      pred_ans = qa_triplet[\"answer\"]\n",
        "      gold_ans = qa_triplet[\"gold_ans\"]\n",
        "      #cleanup\n",
        "      pred_ans = clean_mention(pred_ans)\n",
        "      gold_ans = clean_mention(gold_ans)\n",
        "      if(pred_ans==gold_ans):\n",
        "        num_match+=1\n",
        "print(f\"EM_String:{num_match}\")\n",
        "print(num_ques)"
      ],
      "metadata": {
        "colab": {
          "base_uri": "https://localhost:8080/"
        },
        "id": "qJLwncm9f3Xe",
        "outputId": "7163eb48-19c9-4d82-d475-781c127793bd"
      },
      "execution_count": 376,
      "outputs": [
        {
          "output_type": "stream",
          "name": "stdout",
          "text": [
            "EM_String:20\n",
            "132\n"
          ]
        }
      ]
    },
    {
      "cell_type": "code",
      "source": [],
      "metadata": {
        "id": "TE8r-Ey8idv1"
      },
      "execution_count": null,
      "outputs": []
    }
  ]
}